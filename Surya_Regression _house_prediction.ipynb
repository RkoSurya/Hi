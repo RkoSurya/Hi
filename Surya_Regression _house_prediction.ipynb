{
 "cells": [
  {
   "cell_type": "code",
   "execution_count": 1,
   "id": "3bf836c0",
   "metadata": {},
   "outputs": [],
   "source": [
    "import pandas as pd\n",
    "import numpy as np\n",
    "import seaborn as sns\n",
    "import easygui as eg\n",
    "import matplotlib.pyplot as plt\n",
    "import warnings\n",
    "warnings.filterwarnings( \"ignore\")"
   ]
  },
  {
   "cell_type": "code",
   "execution_count": 2,
   "id": "249fe861",
   "metadata": {},
   "outputs": [],
   "source": [
    "path = eg.fileopenbox()"
   ]
  },
  {
   "cell_type": "code",
   "execution_count": 3,
   "id": "0c8919e8",
   "metadata": {},
   "outputs": [
    {
     "data": {
      "text/plain": [
       "'C:\\\\Users\\\\DELL\\\\Downloads\\\\house_prediction_data\\\\train.csv'"
      ]
     },
     "execution_count": 3,
     "metadata": {},
     "output_type": "execute_result"
    }
   ],
   "source": [
    "path"
   ]
  },
  {
   "cell_type": "code",
   "execution_count": 4,
   "id": "4e02add9",
   "metadata": {},
   "outputs": [],
   "source": [
    "df = pd.read_csv(path)"
   ]
  },
  {
   "cell_type": "code",
   "execution_count": 5,
   "id": "e632c0b8",
   "metadata": {},
   "outputs": [],
   "source": [
    "df.reset_index(drop =True,inplace=True)"
   ]
  },
  {
   "cell_type": "code",
   "execution_count": 6,
   "id": "9ac9d37e",
   "metadata": {},
   "outputs": [
    {
     "data": {
      "text/html": [
       "<div>\n",
       "<style scoped>\n",
       "    .dataframe tbody tr th:only-of-type {\n",
       "        vertical-align: middle;\n",
       "    }\n",
       "\n",
       "    .dataframe tbody tr th {\n",
       "        vertical-align: top;\n",
       "    }\n",
       "\n",
       "    .dataframe thead th {\n",
       "        text-align: right;\n",
       "    }\n",
       "</style>\n",
       "<table border=\"1\" class=\"dataframe\">\n",
       "  <thead>\n",
       "    <tr style=\"text-align: right;\">\n",
       "      <th></th>\n",
       "      <th>POSTED_BY</th>\n",
       "      <th>UNDER_CONSTRUCTION</th>\n",
       "      <th>RERA</th>\n",
       "      <th>BHK_NO.</th>\n",
       "      <th>BHK_OR_RK</th>\n",
       "      <th>SQUARE_FT</th>\n",
       "      <th>READY_TO_MOVE</th>\n",
       "      <th>RESALE</th>\n",
       "      <th>ADDRESS</th>\n",
       "      <th>LONGITUDE</th>\n",
       "      <th>LATITUDE</th>\n",
       "      <th>TARGET(PRICE_IN_LACS)</th>\n",
       "    </tr>\n",
       "  </thead>\n",
       "  <tbody>\n",
       "    <tr>\n",
       "      <th>0</th>\n",
       "      <td>Owner</td>\n",
       "      <td>0</td>\n",
       "      <td>0</td>\n",
       "      <td>2</td>\n",
       "      <td>BHK</td>\n",
       "      <td>1300.236407</td>\n",
       "      <td>1</td>\n",
       "      <td>1</td>\n",
       "      <td>Ksfc Layout,Bangalore</td>\n",
       "      <td>12.969910</td>\n",
       "      <td>77.597960</td>\n",
       "      <td>55.0</td>\n",
       "    </tr>\n",
       "    <tr>\n",
       "      <th>1</th>\n",
       "      <td>Dealer</td>\n",
       "      <td>0</td>\n",
       "      <td>0</td>\n",
       "      <td>2</td>\n",
       "      <td>BHK</td>\n",
       "      <td>1275.000000</td>\n",
       "      <td>1</td>\n",
       "      <td>1</td>\n",
       "      <td>Vishweshwara Nagar,Mysore</td>\n",
       "      <td>12.274538</td>\n",
       "      <td>76.644605</td>\n",
       "      <td>51.0</td>\n",
       "    </tr>\n",
       "    <tr>\n",
       "      <th>2</th>\n",
       "      <td>Owner</td>\n",
       "      <td>0</td>\n",
       "      <td>0</td>\n",
       "      <td>2</td>\n",
       "      <td>BHK</td>\n",
       "      <td>933.159722</td>\n",
       "      <td>1</td>\n",
       "      <td>1</td>\n",
       "      <td>Jigani,Bangalore</td>\n",
       "      <td>12.778033</td>\n",
       "      <td>77.632191</td>\n",
       "      <td>43.0</td>\n",
       "    </tr>\n",
       "    <tr>\n",
       "      <th>3</th>\n",
       "      <td>Owner</td>\n",
       "      <td>0</td>\n",
       "      <td>1</td>\n",
       "      <td>2</td>\n",
       "      <td>BHK</td>\n",
       "      <td>929.921143</td>\n",
       "      <td>1</td>\n",
       "      <td>1</td>\n",
       "      <td>Sector-1 Vaishali,Ghaziabad</td>\n",
       "      <td>28.642300</td>\n",
       "      <td>77.344500</td>\n",
       "      <td>62.5</td>\n",
       "    </tr>\n",
       "    <tr>\n",
       "      <th>4</th>\n",
       "      <td>Dealer</td>\n",
       "      <td>1</td>\n",
       "      <td>0</td>\n",
       "      <td>2</td>\n",
       "      <td>BHK</td>\n",
       "      <td>999.009247</td>\n",
       "      <td>0</td>\n",
       "      <td>1</td>\n",
       "      <td>New Town,Kolkata</td>\n",
       "      <td>22.592200</td>\n",
       "      <td>88.484911</td>\n",
       "      <td>60.5</td>\n",
       "    </tr>\n",
       "    <tr>\n",
       "      <th>...</th>\n",
       "      <td>...</td>\n",
       "      <td>...</td>\n",
       "      <td>...</td>\n",
       "      <td>...</td>\n",
       "      <td>...</td>\n",
       "      <td>...</td>\n",
       "      <td>...</td>\n",
       "      <td>...</td>\n",
       "      <td>...</td>\n",
       "      <td>...</td>\n",
       "      <td>...</td>\n",
       "      <td>...</td>\n",
       "    </tr>\n",
       "    <tr>\n",
       "      <th>29446</th>\n",
       "      <td>Owner</td>\n",
       "      <td>0</td>\n",
       "      <td>0</td>\n",
       "      <td>3</td>\n",
       "      <td>BHK</td>\n",
       "      <td>2500.000000</td>\n",
       "      <td>1</td>\n",
       "      <td>1</td>\n",
       "      <td>Shamshabad Road,Agra</td>\n",
       "      <td>27.140626</td>\n",
       "      <td>78.043277</td>\n",
       "      <td>45.0</td>\n",
       "    </tr>\n",
       "    <tr>\n",
       "      <th>29447</th>\n",
       "      <td>Owner</td>\n",
       "      <td>0</td>\n",
       "      <td>0</td>\n",
       "      <td>2</td>\n",
       "      <td>BHK</td>\n",
       "      <td>769.230769</td>\n",
       "      <td>1</td>\n",
       "      <td>1</td>\n",
       "      <td>E3-108, Lake View Recidency,,Vapi</td>\n",
       "      <td>39.945409</td>\n",
       "      <td>-86.150721</td>\n",
       "      <td>16.0</td>\n",
       "    </tr>\n",
       "    <tr>\n",
       "      <th>29448</th>\n",
       "      <td>Dealer</td>\n",
       "      <td>0</td>\n",
       "      <td>0</td>\n",
       "      <td>2</td>\n",
       "      <td>BHK</td>\n",
       "      <td>1022.641509</td>\n",
       "      <td>1</td>\n",
       "      <td>1</td>\n",
       "      <td>Ajmer Road,Jaipur</td>\n",
       "      <td>26.928785</td>\n",
       "      <td>75.828002</td>\n",
       "      <td>27.1</td>\n",
       "    </tr>\n",
       "    <tr>\n",
       "      <th>29449</th>\n",
       "      <td>Owner</td>\n",
       "      <td>0</td>\n",
       "      <td>0</td>\n",
       "      <td>2</td>\n",
       "      <td>BHK</td>\n",
       "      <td>927.079009</td>\n",
       "      <td>1</td>\n",
       "      <td>1</td>\n",
       "      <td>Sholinganallur,Chennai</td>\n",
       "      <td>12.900150</td>\n",
       "      <td>80.227910</td>\n",
       "      <td>67.0</td>\n",
       "    </tr>\n",
       "    <tr>\n",
       "      <th>29450</th>\n",
       "      <td>Dealer</td>\n",
       "      <td>0</td>\n",
       "      <td>1</td>\n",
       "      <td>2</td>\n",
       "      <td>BHK</td>\n",
       "      <td>896.774194</td>\n",
       "      <td>1</td>\n",
       "      <td>1</td>\n",
       "      <td>Jagatpura,Jaipur</td>\n",
       "      <td>26.832353</td>\n",
       "      <td>75.841749</td>\n",
       "      <td>27.8</td>\n",
       "    </tr>\n",
       "  </tbody>\n",
       "</table>\n",
       "<p>29451 rows × 12 columns</p>\n",
       "</div>"
      ],
      "text/plain": [
       "      POSTED_BY  UNDER_CONSTRUCTION  RERA  BHK_NO. BHK_OR_RK    SQUARE_FT  \\\n",
       "0         Owner                   0     0        2       BHK  1300.236407   \n",
       "1        Dealer                   0     0        2       BHK  1275.000000   \n",
       "2         Owner                   0     0        2       BHK   933.159722   \n",
       "3         Owner                   0     1        2       BHK   929.921143   \n",
       "4        Dealer                   1     0        2       BHK   999.009247   \n",
       "...         ...                 ...   ...      ...       ...          ...   \n",
       "29446     Owner                   0     0        3       BHK  2500.000000   \n",
       "29447     Owner                   0     0        2       BHK   769.230769   \n",
       "29448    Dealer                   0     0        2       BHK  1022.641509   \n",
       "29449     Owner                   0     0        2       BHK   927.079009   \n",
       "29450    Dealer                   0     1        2       BHK   896.774194   \n",
       "\n",
       "       READY_TO_MOVE  RESALE                            ADDRESS  LONGITUDE  \\\n",
       "0                  1       1              Ksfc Layout,Bangalore  12.969910   \n",
       "1                  1       1          Vishweshwara Nagar,Mysore  12.274538   \n",
       "2                  1       1                   Jigani,Bangalore  12.778033   \n",
       "3                  1       1        Sector-1 Vaishali,Ghaziabad  28.642300   \n",
       "4                  0       1                   New Town,Kolkata  22.592200   \n",
       "...              ...     ...                                ...        ...   \n",
       "29446              1       1               Shamshabad Road,Agra  27.140626   \n",
       "29447              1       1  E3-108, Lake View Recidency,,Vapi  39.945409   \n",
       "29448              1       1                  Ajmer Road,Jaipur  26.928785   \n",
       "29449              1       1             Sholinganallur,Chennai  12.900150   \n",
       "29450              1       1                   Jagatpura,Jaipur  26.832353   \n",
       "\n",
       "        LATITUDE  TARGET(PRICE_IN_LACS)  \n",
       "0      77.597960                   55.0  \n",
       "1      76.644605                   51.0  \n",
       "2      77.632191                   43.0  \n",
       "3      77.344500                   62.5  \n",
       "4      88.484911                   60.5  \n",
       "...          ...                    ...  \n",
       "29446  78.043277                   45.0  \n",
       "29447 -86.150721                   16.0  \n",
       "29448  75.828002                   27.1  \n",
       "29449  80.227910                   67.0  \n",
       "29450  75.841749                   27.8  \n",
       "\n",
       "[29451 rows x 12 columns]"
      ]
     },
     "execution_count": 6,
     "metadata": {},
     "output_type": "execute_result"
    }
   ],
   "source": [
    "df"
   ]
  },
  {
   "cell_type": "markdown",
   "id": "1536df96",
   "metadata": {},
   "source": [
    "# shape:"
   ]
  },
  {
   "cell_type": "code",
   "execution_count": 7,
   "id": "141eaf0f",
   "metadata": {},
   "outputs": [
    {
     "data": {
      "text/plain": [
       "(29451, 12)"
      ]
     },
     "execution_count": 7,
     "metadata": {},
     "output_type": "execute_result"
    }
   ],
   "source": [
    "df.shape"
   ]
  },
  {
   "cell_type": "code",
   "execution_count": 8,
   "id": "700d6126",
   "metadata": {},
   "outputs": [],
   "source": [
    "df.columns = [i.lower().replace('.','') for i in df.columns]"
   ]
  },
  {
   "cell_type": "code",
   "execution_count": 9,
   "id": "151aa6e6",
   "metadata": {},
   "outputs": [],
   "source": [
    "df.rename(columns={'target(price_in_lacs)':'target'},inplace=True)"
   ]
  },
  {
   "cell_type": "code",
   "execution_count": 10,
   "id": "d968b545",
   "metadata": {},
   "outputs": [],
   "source": [
    "df.drop(columns='address',inplace=True)"
   ]
  },
  {
   "cell_type": "code",
   "execution_count": 11,
   "id": "eabe68d7",
   "metadata": {
    "scrolled": true
   },
   "outputs": [
    {
     "data": {
      "text/html": [
       "<div>\n",
       "<style scoped>\n",
       "    .dataframe tbody tr th:only-of-type {\n",
       "        vertical-align: middle;\n",
       "    }\n",
       "\n",
       "    .dataframe tbody tr th {\n",
       "        vertical-align: top;\n",
       "    }\n",
       "\n",
       "    .dataframe thead th {\n",
       "        text-align: right;\n",
       "    }\n",
       "</style>\n",
       "<table border=\"1\" class=\"dataframe\">\n",
       "  <thead>\n",
       "    <tr style=\"text-align: right;\">\n",
       "      <th></th>\n",
       "      <th>posted_by</th>\n",
       "      <th>under_construction</th>\n",
       "      <th>rera</th>\n",
       "      <th>bhk_no</th>\n",
       "      <th>bhk_or_rk</th>\n",
       "      <th>square_ft</th>\n",
       "      <th>ready_to_move</th>\n",
       "      <th>resale</th>\n",
       "      <th>longitude</th>\n",
       "      <th>latitude</th>\n",
       "      <th>target</th>\n",
       "    </tr>\n",
       "  </thead>\n",
       "  <tbody>\n",
       "    <tr>\n",
       "      <th>0</th>\n",
       "      <td>Owner</td>\n",
       "      <td>0</td>\n",
       "      <td>0</td>\n",
       "      <td>2</td>\n",
       "      <td>BHK</td>\n",
       "      <td>1300.236407</td>\n",
       "      <td>1</td>\n",
       "      <td>1</td>\n",
       "      <td>12.969910</td>\n",
       "      <td>77.597960</td>\n",
       "      <td>55.0</td>\n",
       "    </tr>\n",
       "    <tr>\n",
       "      <th>1</th>\n",
       "      <td>Dealer</td>\n",
       "      <td>0</td>\n",
       "      <td>0</td>\n",
       "      <td>2</td>\n",
       "      <td>BHK</td>\n",
       "      <td>1275.000000</td>\n",
       "      <td>1</td>\n",
       "      <td>1</td>\n",
       "      <td>12.274538</td>\n",
       "      <td>76.644605</td>\n",
       "      <td>51.0</td>\n",
       "    </tr>\n",
       "    <tr>\n",
       "      <th>2</th>\n",
       "      <td>Owner</td>\n",
       "      <td>0</td>\n",
       "      <td>0</td>\n",
       "      <td>2</td>\n",
       "      <td>BHK</td>\n",
       "      <td>933.159722</td>\n",
       "      <td>1</td>\n",
       "      <td>1</td>\n",
       "      <td>12.778033</td>\n",
       "      <td>77.632191</td>\n",
       "      <td>43.0</td>\n",
       "    </tr>\n",
       "    <tr>\n",
       "      <th>3</th>\n",
       "      <td>Owner</td>\n",
       "      <td>0</td>\n",
       "      <td>1</td>\n",
       "      <td>2</td>\n",
       "      <td>BHK</td>\n",
       "      <td>929.921143</td>\n",
       "      <td>1</td>\n",
       "      <td>1</td>\n",
       "      <td>28.642300</td>\n",
       "      <td>77.344500</td>\n",
       "      <td>62.5</td>\n",
       "    </tr>\n",
       "    <tr>\n",
       "      <th>4</th>\n",
       "      <td>Dealer</td>\n",
       "      <td>1</td>\n",
       "      <td>0</td>\n",
       "      <td>2</td>\n",
       "      <td>BHK</td>\n",
       "      <td>999.009247</td>\n",
       "      <td>0</td>\n",
       "      <td>1</td>\n",
       "      <td>22.592200</td>\n",
       "      <td>88.484911</td>\n",
       "      <td>60.5</td>\n",
       "    </tr>\n",
       "    <tr>\n",
       "      <th>...</th>\n",
       "      <td>...</td>\n",
       "      <td>...</td>\n",
       "      <td>...</td>\n",
       "      <td>...</td>\n",
       "      <td>...</td>\n",
       "      <td>...</td>\n",
       "      <td>...</td>\n",
       "      <td>...</td>\n",
       "      <td>...</td>\n",
       "      <td>...</td>\n",
       "      <td>...</td>\n",
       "    </tr>\n",
       "    <tr>\n",
       "      <th>29446</th>\n",
       "      <td>Owner</td>\n",
       "      <td>0</td>\n",
       "      <td>0</td>\n",
       "      <td>3</td>\n",
       "      <td>BHK</td>\n",
       "      <td>2500.000000</td>\n",
       "      <td>1</td>\n",
       "      <td>1</td>\n",
       "      <td>27.140626</td>\n",
       "      <td>78.043277</td>\n",
       "      <td>45.0</td>\n",
       "    </tr>\n",
       "    <tr>\n",
       "      <th>29447</th>\n",
       "      <td>Owner</td>\n",
       "      <td>0</td>\n",
       "      <td>0</td>\n",
       "      <td>2</td>\n",
       "      <td>BHK</td>\n",
       "      <td>769.230769</td>\n",
       "      <td>1</td>\n",
       "      <td>1</td>\n",
       "      <td>39.945409</td>\n",
       "      <td>-86.150721</td>\n",
       "      <td>16.0</td>\n",
       "    </tr>\n",
       "    <tr>\n",
       "      <th>29448</th>\n",
       "      <td>Dealer</td>\n",
       "      <td>0</td>\n",
       "      <td>0</td>\n",
       "      <td>2</td>\n",
       "      <td>BHK</td>\n",
       "      <td>1022.641509</td>\n",
       "      <td>1</td>\n",
       "      <td>1</td>\n",
       "      <td>26.928785</td>\n",
       "      <td>75.828002</td>\n",
       "      <td>27.1</td>\n",
       "    </tr>\n",
       "    <tr>\n",
       "      <th>29449</th>\n",
       "      <td>Owner</td>\n",
       "      <td>0</td>\n",
       "      <td>0</td>\n",
       "      <td>2</td>\n",
       "      <td>BHK</td>\n",
       "      <td>927.079009</td>\n",
       "      <td>1</td>\n",
       "      <td>1</td>\n",
       "      <td>12.900150</td>\n",
       "      <td>80.227910</td>\n",
       "      <td>67.0</td>\n",
       "    </tr>\n",
       "    <tr>\n",
       "      <th>29450</th>\n",
       "      <td>Dealer</td>\n",
       "      <td>0</td>\n",
       "      <td>1</td>\n",
       "      <td>2</td>\n",
       "      <td>BHK</td>\n",
       "      <td>896.774194</td>\n",
       "      <td>1</td>\n",
       "      <td>1</td>\n",
       "      <td>26.832353</td>\n",
       "      <td>75.841749</td>\n",
       "      <td>27.8</td>\n",
       "    </tr>\n",
       "  </tbody>\n",
       "</table>\n",
       "<p>29451 rows × 11 columns</p>\n",
       "</div>"
      ],
      "text/plain": [
       "      posted_by  under_construction  rera  bhk_no bhk_or_rk    square_ft  \\\n",
       "0         Owner                   0     0       2       BHK  1300.236407   \n",
       "1        Dealer                   0     0       2       BHK  1275.000000   \n",
       "2         Owner                   0     0       2       BHK   933.159722   \n",
       "3         Owner                   0     1       2       BHK   929.921143   \n",
       "4        Dealer                   1     0       2       BHK   999.009247   \n",
       "...         ...                 ...   ...     ...       ...          ...   \n",
       "29446     Owner                   0     0       3       BHK  2500.000000   \n",
       "29447     Owner                   0     0       2       BHK   769.230769   \n",
       "29448    Dealer                   0     0       2       BHK  1022.641509   \n",
       "29449     Owner                   0     0       2       BHK   927.079009   \n",
       "29450    Dealer                   0     1       2       BHK   896.774194   \n",
       "\n",
       "       ready_to_move  resale  longitude   latitude  target  \n",
       "0                  1       1  12.969910  77.597960    55.0  \n",
       "1                  1       1  12.274538  76.644605    51.0  \n",
       "2                  1       1  12.778033  77.632191    43.0  \n",
       "3                  1       1  28.642300  77.344500    62.5  \n",
       "4                  0       1  22.592200  88.484911    60.5  \n",
       "...              ...     ...        ...        ...     ...  \n",
       "29446              1       1  27.140626  78.043277    45.0  \n",
       "29447              1       1  39.945409 -86.150721    16.0  \n",
       "29448              1       1  26.928785  75.828002    27.1  \n",
       "29449              1       1  12.900150  80.227910    67.0  \n",
       "29450              1       1  26.832353  75.841749    27.8  \n",
       "\n",
       "[29451 rows x 11 columns]"
      ]
     },
     "execution_count": 11,
     "metadata": {},
     "output_type": "execute_result"
    }
   ],
   "source": [
    "df"
   ]
  },
  {
   "cell_type": "markdown",
   "id": "e623d40e",
   "metadata": {},
   "source": [
    "# Duplicate_check"
   ]
  },
  {
   "cell_type": "code",
   "execution_count": 12,
   "id": "4e2e42ae",
   "metadata": {},
   "outputs": [
    {
     "data": {
      "text/plain": [
       "False    28566\n",
       "True       885\n",
       "dtype: int64"
      ]
     },
     "execution_count": 12,
     "metadata": {},
     "output_type": "execute_result"
    }
   ],
   "source": [
    "df.duplicated().value_counts()"
   ]
  },
  {
   "cell_type": "code",
   "execution_count": 13,
   "id": "7ac95316",
   "metadata": {},
   "outputs": [],
   "source": [
    "df.drop_duplicates(inplace=True)"
   ]
  },
  {
   "cell_type": "code",
   "execution_count": 14,
   "id": "13838919",
   "metadata": {},
   "outputs": [
    {
     "data": {
      "text/plain": [
       "(28566, 11)"
      ]
     },
     "execution_count": 14,
     "metadata": {},
     "output_type": "execute_result"
    }
   ],
   "source": [
    "df.shape"
   ]
  },
  {
   "cell_type": "markdown",
   "id": "45f31398",
   "metadata": {},
   "source": [
    "# info"
   ]
  },
  {
   "cell_type": "code",
   "execution_count": 15,
   "id": "bddc332a",
   "metadata": {},
   "outputs": [
    {
     "name": "stdout",
     "output_type": "stream",
     "text": [
      "<class 'pandas.core.frame.DataFrame'>\n",
      "Int64Index: 28566 entries, 0 to 29450\n",
      "Data columns (total 11 columns):\n",
      " #   Column              Non-Null Count  Dtype  \n",
      "---  ------              --------------  -----  \n",
      " 0   posted_by           28566 non-null  object \n",
      " 1   under_construction  28566 non-null  int64  \n",
      " 2   rera                28566 non-null  int64  \n",
      " 3   bhk_no              28566 non-null  int64  \n",
      " 4   bhk_or_rk           28566 non-null  object \n",
      " 5   square_ft           28566 non-null  float64\n",
      " 6   ready_to_move       28566 non-null  int64  \n",
      " 7   resale              28566 non-null  int64  \n",
      " 8   longitude           28566 non-null  float64\n",
      " 9   latitude            28566 non-null  float64\n",
      " 10  target              28566 non-null  float64\n",
      "dtypes: float64(4), int64(5), object(2)\n",
      "memory usage: 2.6+ MB\n"
     ]
    }
   ],
   "source": [
    "df.info()"
   ]
  },
  {
   "cell_type": "markdown",
   "id": "0efbd4dc",
   "metadata": {},
   "source": [
    "# describe:"
   ]
  },
  {
   "cell_type": "code",
   "execution_count": 16,
   "id": "767c6d3f",
   "metadata": {},
   "outputs": [
    {
     "data": {
      "text/html": [
       "<div>\n",
       "<style scoped>\n",
       "    .dataframe tbody tr th:only-of-type {\n",
       "        vertical-align: middle;\n",
       "    }\n",
       "\n",
       "    .dataframe tbody tr th {\n",
       "        vertical-align: top;\n",
       "    }\n",
       "\n",
       "    .dataframe thead th {\n",
       "        text-align: right;\n",
       "    }\n",
       "</style>\n",
       "<table border=\"1\" class=\"dataframe\">\n",
       "  <thead>\n",
       "    <tr style=\"text-align: right;\">\n",
       "      <th></th>\n",
       "      <th>under_construction</th>\n",
       "      <th>rera</th>\n",
       "      <th>bhk_no</th>\n",
       "      <th>square_ft</th>\n",
       "      <th>ready_to_move</th>\n",
       "      <th>resale</th>\n",
       "      <th>longitude</th>\n",
       "      <th>latitude</th>\n",
       "      <th>target</th>\n",
       "    </tr>\n",
       "  </thead>\n",
       "  <tbody>\n",
       "    <tr>\n",
       "      <th>count</th>\n",
       "      <td>28566.000000</td>\n",
       "      <td>28566.000000</td>\n",
       "      <td>28566.000000</td>\n",
       "      <td>2.856600e+04</td>\n",
       "      <td>28566.000000</td>\n",
       "      <td>28566.000000</td>\n",
       "      <td>28566.000000</td>\n",
       "      <td>28566.000000</td>\n",
       "      <td>28566.000000</td>\n",
       "    </tr>\n",
       "    <tr>\n",
       "      <th>mean</th>\n",
       "      <td>0.177029</td>\n",
       "      <td>0.313345</td>\n",
       "      <td>2.393685</td>\n",
       "      <td>2.034010e+04</td>\n",
       "      <td>0.822971</td>\n",
       "      <td>0.932017</td>\n",
       "      <td>21.303675</td>\n",
       "      <td>76.888819</td>\n",
       "      <td>139.365177</td>\n",
       "    </tr>\n",
       "    <tr>\n",
       "      <th>std</th>\n",
       "      <td>0.381700</td>\n",
       "      <td>0.463861</td>\n",
       "      <td>0.880475</td>\n",
       "      <td>1.930560e+06</td>\n",
       "      <td>0.381700</td>\n",
       "      <td>0.251721</td>\n",
       "      <td>6.238220</td>\n",
       "      <td>10.645014</td>\n",
       "      <td>646.610955</td>\n",
       "    </tr>\n",
       "    <tr>\n",
       "      <th>min</th>\n",
       "      <td>0.000000</td>\n",
       "      <td>0.000000</td>\n",
       "      <td>1.000000</td>\n",
       "      <td>3.000000e+00</td>\n",
       "      <td>0.000000</td>\n",
       "      <td>0.000000</td>\n",
       "      <td>-37.713008</td>\n",
       "      <td>-121.761248</td>\n",
       "      <td>0.250000</td>\n",
       "    </tr>\n",
       "    <tr>\n",
       "      <th>25%</th>\n",
       "      <td>0.000000</td>\n",
       "      <td>0.000000</td>\n",
       "      <td>2.000000</td>\n",
       "      <td>9.000474e+02</td>\n",
       "      <td>1.000000</td>\n",
       "      <td>1.000000</td>\n",
       "      <td>18.347616</td>\n",
       "      <td>73.839897</td>\n",
       "      <td>37.200000</td>\n",
       "    </tr>\n",
       "    <tr>\n",
       "      <th>50%</th>\n",
       "      <td>0.000000</td>\n",
       "      <td>0.000000</td>\n",
       "      <td>2.000000</td>\n",
       "      <td>1.175127e+03</td>\n",
       "      <td>1.000000</td>\n",
       "      <td>1.000000</td>\n",
       "      <td>21.000000</td>\n",
       "      <td>77.335746</td>\n",
       "      <td>60.000000</td>\n",
       "    </tr>\n",
       "    <tr>\n",
       "      <th>75%</th>\n",
       "      <td>0.000000</td>\n",
       "      <td>1.000000</td>\n",
       "      <td>3.000000</td>\n",
       "      <td>1.550388e+03</td>\n",
       "      <td>1.000000</td>\n",
       "      <td>1.000000</td>\n",
       "      <td>26.900926</td>\n",
       "      <td>78.039980</td>\n",
       "      <td>100.000000</td>\n",
       "    </tr>\n",
       "    <tr>\n",
       "      <th>max</th>\n",
       "      <td>1.000000</td>\n",
       "      <td>1.000000</td>\n",
       "      <td>20.000000</td>\n",
       "      <td>2.545455e+08</td>\n",
       "      <td>1.000000</td>\n",
       "      <td>1.000000</td>\n",
       "      <td>59.912884</td>\n",
       "      <td>152.962676</td>\n",
       "      <td>30000.000000</td>\n",
       "    </tr>\n",
       "  </tbody>\n",
       "</table>\n",
       "</div>"
      ],
      "text/plain": [
       "       under_construction          rera        bhk_no     square_ft  \\\n",
       "count        28566.000000  28566.000000  28566.000000  2.856600e+04   \n",
       "mean             0.177029      0.313345      2.393685  2.034010e+04   \n",
       "std              0.381700      0.463861      0.880475  1.930560e+06   \n",
       "min              0.000000      0.000000      1.000000  3.000000e+00   \n",
       "25%              0.000000      0.000000      2.000000  9.000474e+02   \n",
       "50%              0.000000      0.000000      2.000000  1.175127e+03   \n",
       "75%              0.000000      1.000000      3.000000  1.550388e+03   \n",
       "max              1.000000      1.000000     20.000000  2.545455e+08   \n",
       "\n",
       "       ready_to_move        resale     longitude      latitude        target  \n",
       "count   28566.000000  28566.000000  28566.000000  28566.000000  28566.000000  \n",
       "mean        0.822971      0.932017     21.303675     76.888819    139.365177  \n",
       "std         0.381700      0.251721      6.238220     10.645014    646.610955  \n",
       "min         0.000000      0.000000    -37.713008   -121.761248      0.250000  \n",
       "25%         1.000000      1.000000     18.347616     73.839897     37.200000  \n",
       "50%         1.000000      1.000000     21.000000     77.335746     60.000000  \n",
       "75%         1.000000      1.000000     26.900926     78.039980    100.000000  \n",
       "max         1.000000      1.000000     59.912884    152.962676  30000.000000  "
      ]
     },
     "execution_count": 16,
     "metadata": {},
     "output_type": "execute_result"
    }
   ],
   "source": [
    "df.describe()"
   ]
  },
  {
   "cell_type": "markdown",
   "id": "c0144073",
   "metadata": {},
   "source": [
    "# Finding null values:"
   ]
  },
  {
   "cell_type": "code",
   "execution_count": 17,
   "id": "98dfb453",
   "metadata": {},
   "outputs": [
    {
     "data": {
      "text/plain": [
       "posted_by             0\n",
       "under_construction    0\n",
       "rera                  0\n",
       "bhk_no                0\n",
       "bhk_or_rk             0\n",
       "square_ft             0\n",
       "ready_to_move         0\n",
       "resale                0\n",
       "longitude             0\n",
       "latitude              0\n",
       "target                0\n",
       "dtype: int64"
      ]
     },
     "execution_count": 17,
     "metadata": {},
     "output_type": "execute_result"
    }
   ],
   "source": [
    "df.isnull().sum()"
   ]
  },
  {
   "cell_type": "code",
   "execution_count": 18,
   "id": "a293eaec",
   "metadata": {},
   "outputs": [
    {
     "data": {
      "text/plain": [
       "<AxesSubplot:>"
      ]
     },
     "execution_count": 18,
     "metadata": {},
     "output_type": "execute_result"
    },
    {
     "data": {
      "image/png": "[encoded data removed]",
      "text/plain": [
       "<Figure size 432x288 with 2 Axes>"
      ]
     },
     "metadata": {
      "needs_background": "light"
     },
     "output_type": "display_data"
    }
   ],
   "source": [
    "sns.heatmap(df.isnull())  "
   ]
  },
  {
   "cell_type": "markdown",
   "id": "be6a4751",
   "metadata": {},
   "source": [
    "# Unique Values:"
   ]
  },
  {
   "cell_type": "code",
   "execution_count": 19,
   "id": "7574d04c",
   "metadata": {},
   "outputs": [],
   "source": [
    "def unique(x):\n",
    "    count = 0\n",
    "    for i in x.unique():\n",
    "        count+=1\n",
    "    print(f'Count of unique values in {x.name} : {count}')\n",
    "    print(x.unique())"
   ]
  },
  {
   "cell_type": "code",
   "execution_count": 20,
   "id": "b50477fb",
   "metadata": {},
   "outputs": [
    {
     "name": "stdout",
     "output_type": "stream",
     "text": [
      "Count of unique values in under_construction : 2\n",
      "[0 1]\n"
     ]
    }
   ],
   "source": [
    "unique(df.under_construction)"
   ]
  },
  {
   "cell_type": "code",
   "execution_count": 21,
   "id": "fab1a1de",
   "metadata": {},
   "outputs": [
    {
     "name": "stdout",
     "output_type": "stream",
     "text": [
      "Count of unique values in rera : 2\n",
      "[0 1]\n"
     ]
    }
   ],
   "source": [
    "unique(df.rera)"
   ]
  },
  {
   "cell_type": "code",
   "execution_count": 22,
   "id": "3b6e4eb3",
   "metadata": {},
   "outputs": [
    {
     "name": "stdout",
     "output_type": "stream",
     "text": [
      "Count of unique values in ready_to_move : 2\n",
      "[1 0]\n"
     ]
    }
   ],
   "source": [
    "unique(df.ready_to_move\t)"
   ]
  },
  {
   "cell_type": "code",
   "execution_count": 23,
   "id": "bbdc91a0",
   "metadata": {},
   "outputs": [
    {
     "name": "stdout",
     "output_type": "stream",
     "text": [
      "Count of unique values in resale : 2\n",
      "[1 0]\n"
     ]
    }
   ],
   "source": [
    "unique(df.resale)"
   ]
  },
  {
   "cell_type": "code",
   "execution_count": 24,
   "id": "0d0d94a8",
   "metadata": {},
   "outputs": [
    {
     "name": "stdout",
     "output_type": "stream",
     "text": [
      "Count of unique values in bhk_no : 16\n",
      "[ 2  3  1  4  5  6 12  8 20 10  7  9 13 17 15 11]\n"
     ]
    }
   ],
   "source": [
    "unique(df.bhk_no)"
   ]
  },
  {
   "cell_type": "code",
   "execution_count": 25,
   "id": "a2d06266",
   "metadata": {},
   "outputs": [
    {
     "name": "stdout",
     "output_type": "stream",
     "text": [
      "Count of unique values in posted_by : 3\n",
      "['Owner' 'Dealer' 'Builder']\n"
     ]
    }
   ],
   "source": [
    "unique(df.posted_by )"
   ]
  },
  {
   "cell_type": "code",
   "execution_count": 26,
   "id": "6a26bc61",
   "metadata": {},
   "outputs": [
    {
     "name": "stdout",
     "output_type": "stream",
     "text": [
      "Count of unique values in bhk_or_rk : 2\n",
      "['BHK' 'RK']\n"
     ]
    }
   ],
   "source": [
    "unique(df.bhk_or_rk)"
   ]
  },
  {
   "cell_type": "code",
   "execution_count": 27,
   "id": "0ec7057a",
   "metadata": {},
   "outputs": [
    {
     "data": {
      "text/plain": [
       "BHK    28542\n",
       "RK        24\n",
       "Name: bhk_or_rk, dtype: int64"
      ]
     },
     "execution_count": 27,
     "metadata": {},
     "output_type": "execute_result"
    }
   ],
   "source": [
    "df.bhk_or_rk.value_counts()"
   ]
  },
  {
   "cell_type": "code",
   "execution_count": 28,
   "id": "4298536f",
   "metadata": {},
   "outputs": [
    {
     "name": "stdout",
     "output_type": "stream",
     "text": [
      "<class 'pandas.core.frame.DataFrame'>\n",
      "Int64Index: 28566 entries, 0 to 29450\n",
      "Data columns (total 11 columns):\n",
      " #   Column              Non-Null Count  Dtype  \n",
      "---  ------              --------------  -----  \n",
      " 0   posted_by           28566 non-null  object \n",
      " 1   under_construction  28566 non-null  int64  \n",
      " 2   rera                28566 non-null  int64  \n",
      " 3   bhk_no              28566 non-null  int64  \n",
      " 4   bhk_or_rk           28566 non-null  object \n",
      " 5   square_ft           28566 non-null  float64\n",
      " 6   ready_to_move       28566 non-null  int64  \n",
      " 7   resale              28566 non-null  int64  \n",
      " 8   longitude           28566 non-null  float64\n",
      " 9   latitude            28566 non-null  float64\n",
      " 10  target              28566 non-null  float64\n",
      "dtypes: float64(4), int64(5), object(2)\n",
      "memory usage: 2.6+ MB\n"
     ]
    }
   ],
   "source": [
    "df.info()"
   ]
  },
  {
   "cell_type": "markdown",
   "id": "efe61d2f",
   "metadata": {},
   "source": [
    "# univariante:"
   ]
  },
  {
   "cell_type": "code",
   "execution_count": 29,
   "id": "f5fe4489",
   "metadata": {},
   "outputs": [],
   "source": [
    "y = df['target']"
   ]
  },
  {
   "cell_type": "code",
   "execution_count": 30,
   "id": "f40eb9b6",
   "metadata": {},
   "outputs": [],
   "source": [
    "df_cat = df.drop(columns=['target','square_ft','longitude','latitude'])\n",
    "df_num = df.drop(columns=['posted_by','under_construction','rera','bhk_no','bhk_or_rk','ready_to_move', 'resale'])"
   ]
  },
  {
   "cell_type": "code",
   "execution_count": 31,
   "id": "9662e013",
   "metadata": {},
   "outputs": [
    {
     "data": {
      "image/png": "[encoded data removed]",
      "text/plain": [
       "<Figure size 2160x2160 with 2 Axes>"
      ]
     },
     "metadata": {
      "needs_background": "light"
     },
     "output_type": "display_data"
    }
   ],
   "source": [
    "plt.figure(figsize=(30,30))\n",
    "j=1\n",
    "for columns in df_cat.select_dtypes(include='object'):\n",
    "    plt.subplot(3,3,j)\n",
    "    sns.countplot(x=columns,data=df)\n",
    "    j+=1\n",
    "plt.tight_layout()"
   ]
  },
  {
   "cell_type": "code",
   "execution_count": 32,
   "id": "779fce09",
   "metadata": {},
   "outputs": [
    {
     "data": {
      "image/png": "[encoded data removed]",
      "text/plain": [
       "<Figure size 2160x2160 with 7 Axes>"
      ]
     },
     "metadata": {
      "needs_background": "light"
     },
     "output_type": "display_data"
    }
   ],
   "source": [
    "plt.figure(figsize=(30,30))\n",
    "j=1\n",
    "for columns in df_cat:\n",
    "    plt.subplot(3,3,j)\n",
    "    sns.barplot(y=y,x=columns,data=df)\n",
    "    j+=1\n",
    "plt.tight_layout()"
   ]
  },
  {
   "cell_type": "code",
   "execution_count": 33,
   "id": "7e375212",
   "metadata": {},
   "outputs": [
    {
     "data": {
      "image/png": "[encoded data removed]",
      "text/plain": [
       "<Figure size 2160x2160 with 4 Axes>"
      ]
     },
     "metadata": {
      "needs_background": "light"
     },
     "output_type": "display_data"
    }
   ],
   "source": [
    "plt.figure(figsize=(30,30))\n",
    "j=1\n",
    "for columns in df_num:\n",
    "    plt.subplot(3,3,j)\n",
    "    sns.kdeplot(x=columns,data=df)\n",
    "    j+=1\n",
    "plt.tight_layout()"
   ]
  },
  {
   "cell_type": "markdown",
   "id": "ba35ab42",
   "metadata": {},
   "source": [
    "# Bivariante"
   ]
  },
  {
   "cell_type": "raw",
   "id": "2843c4ab",
   "metadata": {},
   "source": [
    "df_num"
   ]
  },
  {
   "cell_type": "code",
   "execution_count": 34,
   "id": "e07fbb6b",
   "metadata": {},
   "outputs": [
    {
     "data": {
      "image/png": "[encoded data removed]",
      "text/plain": [
       "<Figure size 2160x2160 with 4 Axes>"
      ]
     },
     "metadata": {
      "needs_background": "light"
     },
     "output_type": "display_data"
    }
   ],
   "source": [
    "plt.figure(figsize=(30,30))\n",
    "j=1\n",
    "for columns in df_num:\n",
    "    plt.subplot(3,3,j)\n",
    "    sns.scatterplot(y=y,x=columns,data=df)\n",
    "    j+=1\n",
    "plt.tight_layout()"
   ]
  },
  {
   "cell_type": "raw",
   "id": "eb7d7c8d",
   "metadata": {},
   "source": [
    "df_cat"
   ]
  },
  {
   "cell_type": "code",
   "execution_count": 35,
   "id": "c54ec9c1",
   "metadata": {},
   "outputs": [
    {
     "data": {
      "image/png": "[encoded data removed]",
      "text/plain": [
       "<Figure size 2160x2160 with 7 Axes>"
      ]
     },
     "metadata": {
      "needs_background": "light"
     },
     "output_type": "display_data"
    }
   ],
   "source": [
    "plt.figure(figsize=(30,30))\n",
    "j=1\n",
    "for columns in df_cat:\n",
    "    plt.subplot(3,3,j)\n",
    "    sns.scatterplot(y=y,x=columns,data=df)\n",
    "    j+=1\n",
    "plt.tight_layout()"
   ]
  },
  {
   "cell_type": "code",
   "execution_count": null,
   "id": "527befa1",
   "metadata": {},
   "outputs": [],
   "source": []
  },
  {
   "cell_type": "markdown",
   "id": "a48a3065",
   "metadata": {},
   "source": [
    "# Multivariante"
   ]
  },
  {
   "cell_type": "code",
   "execution_count": 36,
   "id": "880bbf44",
   "metadata": {},
   "outputs": [],
   "source": [
    "df_multi = (df.select_dtypes(exclude='object'))"
   ]
  },
  {
   "cell_type": "code",
   "execution_count": 37,
   "id": "45f4ee5f",
   "metadata": {},
   "outputs": [],
   "source": [
    "corr=df.corr()"
   ]
  },
  {
   "cell_type": "code",
   "execution_count": 38,
   "id": "aa596e27",
   "metadata": {},
   "outputs": [
    {
     "data": {
      "text/plain": [
       "<AxesSubplot:>"
      ]
     },
     "execution_count": 38,
     "metadata": {},
     "output_type": "execute_result"
    },
    {
     "data": {
      "image/png": "[encoded data removed]",
      "text/plain": [
       "<Figure size 1440x720 with 2 Axes>"
      ]
     },
     "metadata": {
      "needs_background": "light"
     },
     "output_type": "display_data"
    }
   ],
   "source": [
    "plt.figure(figsize=[20,10])\n",
    "sns.heatmap(data=corr,annot=True)"
   ]
  },
  {
   "cell_type": "markdown",
   "id": "1c3d46b9",
   "metadata": {},
   "source": [
    "# Find_outlier"
   ]
  },
  {
   "cell_type": "markdown",
   "id": "cfd41838",
   "metadata": {},
   "source": [
    "### *log.Transfer method()\n",
    "\n",
    " np.log(df.target)     used to reduce outlier "
   ]
  },
  {
   "cell_type": "code",
   "execution_count": 39,
   "id": "8028e4ea",
   "metadata": {},
   "outputs": [
    {
     "data": {
      "text/plain": [
       "<AxesSubplot:>"
      ]
     },
     "execution_count": 39,
     "metadata": {},
     "output_type": "execute_result"
    },
    {
     "data": {
      "image/png": "[encoded data removed]",
      "text/plain": [
       "<Figure size 720x360 with 1 Axes>"
      ]
     },
     "metadata": {
      "needs_background": "light"
     },
     "output_type": "display_data"
    }
   ],
   "source": [
    "plt.figure(figsize=(10,5))\n",
    "sns.boxplot(data = np.log(df['target']), orient = 'h')\n"
   ]
  },
  {
   "cell_type": "markdown",
   "id": "b772b035",
   "metadata": {},
   "source": [
    "### *square_transfer methods()\n",
    "\n",
    "np.square(df.target) is also method to reduce the outlier"
   ]
  },
  {
   "cell_type": "code",
   "execution_count": 40,
   "id": "af2ee4da",
   "metadata": {},
   "outputs": [
    {
     "data": {
      "text/plain": [
       "<AxesSubplot:>"
      ]
     },
     "execution_count": 40,
     "metadata": {},
     "output_type": "execute_result"
    },
    {
     "data": {
      "image/png": "[encoded data removed]",
      "text/plain": [
       "<Figure size 720x360 with 1 Axes>"
      ]
     },
     "metadata": {
      "needs_background": "light"
     },
     "output_type": "display_data"
    }
   ],
   "source": [
    "plt.figure(figsize=(10,5))\n",
    "sns.boxplot(data = np.square(df['target']), orient = 'h')"
   ]
  },
  {
   "cell_type": "code",
   "execution_count": 41,
   "id": "5036d900",
   "metadata": {},
   "outputs": [],
   "source": [
    "def univariate_outlier(x, factor):\n",
    "    q1 = x.quantile(0.25)\n",
    "    q3 = x.quantile(0.75)\n",
    "    iqr = q3-q1\n",
    "    inner = q1 - factor*iqr\n",
    "    outer = q3 + factor*iqr\n",
    "    out=[]\n",
    "    for i,j in x.iteritems():\n",
    "        if inner<j<outer:\n",
    "            pass\n",
    "        else:\n",
    "            out.append(j)\n",
    "    return out\n"
   ]
  },
  {
   "cell_type": "code",
   "execution_count": 42,
   "id": "639693b5",
   "metadata": {},
   "outputs": [
    {
     "data": {
      "text/plain": [
       "856"
      ]
     },
     "execution_count": 42,
     "metadata": {},
     "output_type": "execute_result"
    }
   ],
   "source": [
    "len(univariate_outlier(np.log(df['target']),1.5))"
   ]
  },
  {
   "cell_type": "markdown",
   "id": "30bc5dbe",
   "metadata": {},
   "source": [
    "## Remove the outlier:"
   ]
  },
  {
   "cell_type": "code",
   "execution_count": 43,
   "id": "861bb339",
   "metadata": {},
   "outputs": [],
   "source": [
    "def remove_outlier(x, factor):\n",
    "    q1 = x.quantile(0.25)\n",
    "    q3 = x.quantile(0.75)\n",
    "    iqr = q3-q1\n",
    "    inner = q1 - factor*iqr\n",
    "    outer = q3 + factor*iqr\n",
    "    \n",
    "    index = []\n",
    "    out=[]\n",
    "    for idx,val in enumerate(x):\n",
    "        if inner<val<outer:\n",
    "            pass\n",
    "        else:\n",
    "            index.append(idx)\n",
    "            out.append(val)\n",
    "        \n",
    "    return index,out"
   ]
  },
  {
   "cell_type": "code",
   "execution_count": 44,
   "id": "f77fcd3f",
   "metadata": {},
   "outputs": [],
   "source": [
    "idx, val = remove_outlier(np.log(df.target), factor = 1.5)"
   ]
  },
  {
   "cell_type": "code",
   "execution_count": 45,
   "id": "1e089dab",
   "metadata": {},
   "outputs": [
    {
     "data": {
      "text/plain": [
       "856"
      ]
     },
     "execution_count": 45,
     "metadata": {},
     "output_type": "execute_result"
    }
   ],
   "source": [
    "len(idx)"
   ]
  },
  {
   "cell_type": "raw",
   "id": "71d0fe36",
   "metadata": {},
   "source": [
    "df.drop(idx,axis=0)"
   ]
  },
  {
   "cell_type": "markdown",
   "id": "24f0bc39",
   "metadata": {},
   "source": [
    "# Assumption Testing:"
   ]
  },
  {
   "cell_type": "markdown",
   "id": "88ff2ed0",
   "metadata": {},
   "source": [
    "# 1.Linearity check"
   ]
  },
  {
   "cell_type": "code",
   "execution_count": 46,
   "id": "043d5fc0",
   "metadata": {},
   "outputs": [
    {
     "ename": "NameError",
     "evalue": "name 'x' is not defined",
     "output_type": "error",
     "traceback": [
      "\u001b[1;31m---------------------------------------------------------------------------\u001b[0m",
      "\u001b[1;31mNameError\u001b[0m                                 Traceback (most recent call last)",
      "Input \u001b[1;32mIn [46]\u001b[0m, in \u001b[0;36m<cell line: 1>\u001b[1;34m()\u001b[0m\n\u001b[1;32m----> 1\u001b[0m \u001b[43mx\u001b[49m\u001b[38;5;241m.\u001b[39mcolumns\n",
      "\u001b[1;31mNameError\u001b[0m: name 'x' is not defined"
     ]
    }
   ],
   "source": [
    "x.columns"
   ]
  },
  {
   "cell_type": "code",
   "execution_count": null,
   "id": "a23a4f64",
   "metadata": {},
   "outputs": [],
   "source": [
    "x = df.drop(columns=['posted_by','target','bhk_or_rk'])"
   ]
  },
  {
   "cell_type": "code",
   "execution_count": null,
   "id": "2e1685fa",
   "metadata": {},
   "outputs": [],
   "source": [
    "y =df['target']"
   ]
  },
  {
   "cell_type": "code",
   "execution_count": null,
   "id": "242c0511",
   "metadata": {},
   "outputs": [],
   "source": [
    "from scipy.stats import pearsonr"
   ]
  },
  {
   "cell_type": "code",
   "execution_count": null,
   "id": "f08eb101",
   "metadata": {},
   "outputs": [],
   "source": [
    "def linearity_check(x,y):\n",
    "    r_data = pd.DataFrame(columns = ['F1','F2','r','p-value','Significant'])\n",
    "    for i in x.columns:\n",
    "        r,p = pearsonr(x[i],y)\n",
    "        if p<0.05:\n",
    "            r_data = r_data.append({'F1':i,'F2':y.name,'r':r,'p-value':p,'Significant':'Yes'},ignore_index = True)\n",
    "        else:\n",
    "            r_data = r_data.append({'F1':i,'F2':y.name,'r':r,'p-value':p,'Significant':'No'},ignore_index = True)\n",
    "    return r_data"
   ]
  },
  {
   "cell_type": "code",
   "execution_count": 74,
   "id": "22095336",
   "metadata": {},
   "outputs": [
    {
     "data": {
      "text/html": [
       "<div>\n",
       "<style scoped>\n",
       "    .dataframe tbody tr th:only-of-type {\n",
       "        vertical-align: middle;\n",
       "    }\n",
       "\n",
       "    .dataframe tbody tr th {\n",
       "        vertical-align: top;\n",
       "    }\n",
       "\n",
       "    .dataframe thead th {\n",
       "        text-align: right;\n",
       "    }\n",
       "</style>\n",
       "<table border=\"1\" class=\"dataframe\">\n",
       "  <thead>\n",
       "    <tr style=\"text-align: right;\">\n",
       "      <th></th>\n",
       "      <th>F1</th>\n",
       "      <th>F2</th>\n",
       "      <th>r</th>\n",
       "      <th>p-value</th>\n",
       "      <th>Significant</th>\n",
       "    </tr>\n",
       "  </thead>\n",
       "  <tbody>\n",
       "    <tr>\n",
       "      <th>0</th>\n",
       "      <td>under_construction</td>\n",
       "      <td>target</td>\n",
       "      <td>0.056315</td>\n",
       "      <td>0.0</td>\n",
       "      <td>Yes</td>\n",
       "    </tr>\n",
       "    <tr>\n",
       "      <th>1</th>\n",
       "      <td>rera</td>\n",
       "      <td>target</td>\n",
       "      <td>0.066348</td>\n",
       "      <td>0.0</td>\n",
       "      <td>Yes</td>\n",
       "    </tr>\n",
       "    <tr>\n",
       "      <th>2</th>\n",
       "      <td>bhk_no</td>\n",
       "      <td>target</td>\n",
       "      <td>0.112932</td>\n",
       "      <td>0.0</td>\n",
       "      <td>Yes</td>\n",
       "    </tr>\n",
       "    <tr>\n",
       "      <th>3</th>\n",
       "      <td>square_ft</td>\n",
       "      <td>target</td>\n",
       "      <td>0.415189</td>\n",
       "      <td>0.0</td>\n",
       "      <td>Yes</td>\n",
       "    </tr>\n",
       "    <tr>\n",
       "      <th>4</th>\n",
       "      <td>ready_to_move</td>\n",
       "      <td>target</td>\n",
       "      <td>-0.056315</td>\n",
       "      <td>0.0</td>\n",
       "      <td>Yes</td>\n",
       "    </tr>\n",
       "    <tr>\n",
       "      <th>5</th>\n",
       "      <td>resale</td>\n",
       "      <td>target</td>\n",
       "      <td>-0.202314</td>\n",
       "      <td>0.0</td>\n",
       "      <td>Yes</td>\n",
       "    </tr>\n",
       "    <tr>\n",
       "      <th>6</th>\n",
       "      <td>longitude</td>\n",
       "      <td>target</td>\n",
       "      <td>-0.0296</td>\n",
       "      <td>0.000001</td>\n",
       "      <td>Yes</td>\n",
       "    </tr>\n",
       "    <tr>\n",
       "      <th>7</th>\n",
       "      <td>latitude</td>\n",
       "      <td>target</td>\n",
       "      <td>-0.016758</td>\n",
       "      <td>0.00462</td>\n",
       "      <td>Yes</td>\n",
       "    </tr>\n",
       "  </tbody>\n",
       "</table>\n",
       "</div>"
      ],
      "text/plain": [
       "                   F1      F2         r   p-value Significant\n",
       "0  under_construction  target  0.056315       0.0         Yes\n",
       "1                rera  target  0.066348       0.0         Yes\n",
       "2              bhk_no  target  0.112932       0.0         Yes\n",
       "3           square_ft  target  0.415189       0.0         Yes\n",
       "4       ready_to_move  target -0.056315       0.0         Yes\n",
       "5              resale  target -0.202314       0.0         Yes\n",
       "6           longitude  target   -0.0296  0.000001         Yes\n",
       "7            latitude  target -0.016758   0.00462         Yes"
      ]
     },
     "execution_count": 74,
     "metadata": {},
     "output_type": "execute_result"
    }
   ],
   "source": [
    "linearity_check(x,y)"
   ]
  },
  {
   "cell_type": "code",
   "execution_count": null,
   "id": "b851fd39",
   "metadata": {},
   "outputs": [],
   "source": []
  },
  {
   "cell_type": "markdown",
   "id": "c8c336a7",
   "metadata": {},
   "source": [
    "# 2.Normality test"
   ]
  },
  {
   "cell_type": "code",
   "execution_count": 75,
   "id": "d13efbdd",
   "metadata": {},
   "outputs": [],
   "source": [
    "from scipy.stats import shapiro"
   ]
  },
  {
   "cell_type": "code",
   "execution_count": 76,
   "id": "2cf198f8",
   "metadata": {},
   "outputs": [],
   "source": [
    "def normality_test(x):\n",
    "    data = pd.DataFrame(columns=['name','s','p-value','significant'])\n",
    "    for i in x.columns:\n",
    "        \n",
    "        s,p = shapiro(x[i])\n",
    "        if p<0.05:\n",
    "            data = data.append(\n",
    "                {'name':i,'s':s,'p-value':p,'significant':'not normal'},ignore_index = True)\n",
    "        else:\n",
    "            data.append({'name':i,'s':s,'p-value':p,'significant':'normal'},ignore_index=True)\n",
    "    return data"
   ]
  },
  {
   "cell_type": "code",
   "execution_count": 77,
   "id": "6f7dda1e",
   "metadata": {},
   "outputs": [
    {
     "data": {
      "text/html": [
       "<div>\n",
       "<style scoped>\n",
       "    .dataframe tbody tr th:only-of-type {\n",
       "        vertical-align: middle;\n",
       "    }\n",
       "\n",
       "    .dataframe tbody tr th {\n",
       "        vertical-align: top;\n",
       "    }\n",
       "\n",
       "    .dataframe thead th {\n",
       "        text-align: right;\n",
       "    }\n",
       "</style>\n",
       "<table border=\"1\" class=\"dataframe\">\n",
       "  <thead>\n",
       "    <tr style=\"text-align: right;\">\n",
       "      <th></th>\n",
       "      <th>name</th>\n",
       "      <th>s</th>\n",
       "      <th>p-value</th>\n",
       "      <th>significant</th>\n",
       "    </tr>\n",
       "  </thead>\n",
       "  <tbody>\n",
       "    <tr>\n",
       "      <th>0</th>\n",
       "      <td>under_construction</td>\n",
       "      <td>0.462833</td>\n",
       "      <td>0.0</td>\n",
       "      <td>not normal</td>\n",
       "    </tr>\n",
       "    <tr>\n",
       "      <th>1</th>\n",
       "      <td>rera</td>\n",
       "      <td>0.583848</td>\n",
       "      <td>0.0</td>\n",
       "      <td>not normal</td>\n",
       "    </tr>\n",
       "    <tr>\n",
       "      <th>2</th>\n",
       "      <td>bhk_no</td>\n",
       "      <td>0.79139</td>\n",
       "      <td>0.0</td>\n",
       "      <td>not normal</td>\n",
       "    </tr>\n",
       "    <tr>\n",
       "      <th>3</th>\n",
       "      <td>square_ft</td>\n",
       "      <td>0.00161</td>\n",
       "      <td>0.0</td>\n",
       "      <td>not normal</td>\n",
       "    </tr>\n",
       "    <tr>\n",
       "      <th>4</th>\n",
       "      <td>ready_to_move</td>\n",
       "      <td>0.463042</td>\n",
       "      <td>0.0</td>\n",
       "      <td>not normal</td>\n",
       "    </tr>\n",
       "    <tr>\n",
       "      <th>5</th>\n",
       "      <td>resale</td>\n",
       "      <td>0.271909</td>\n",
       "      <td>0.0</td>\n",
       "      <td>not normal</td>\n",
       "    </tr>\n",
       "    <tr>\n",
       "      <th>6</th>\n",
       "      <td>longitude</td>\n",
       "      <td>0.935626</td>\n",
       "      <td>0.0</td>\n",
       "      <td>not normal</td>\n",
       "    </tr>\n",
       "    <tr>\n",
       "      <th>7</th>\n",
       "      <td>latitude</td>\n",
       "      <td>0.325213</td>\n",
       "      <td>0.0</td>\n",
       "      <td>not normal</td>\n",
       "    </tr>\n",
       "  </tbody>\n",
       "</table>\n",
       "</div>"
      ],
      "text/plain": [
       "                 name         s p-value significant\n",
       "0  under_construction  0.462833     0.0  not normal\n",
       "1                rera  0.583848     0.0  not normal\n",
       "2              bhk_no   0.79139     0.0  not normal\n",
       "3           square_ft   0.00161     0.0  not normal\n",
       "4       ready_to_move  0.463042     0.0  not normal\n",
       "5              resale  0.271909     0.0  not normal\n",
       "6           longitude  0.935626     0.0  not normal\n",
       "7            latitude  0.325213     0.0  not normal"
      ]
     },
     "execution_count": 77,
     "metadata": {},
     "output_type": "execute_result"
    }
   ],
   "source": [
    "normality_test(x)"
   ]
  },
  {
   "cell_type": "code",
   "execution_count": null,
   "id": "b2f7abf1",
   "metadata": {},
   "outputs": [],
   "source": []
  },
  {
   "cell_type": "markdown",
   "id": "86e985f9",
   "metadata": {},
   "source": [
    "# 3.No mutli_co_linearity test"
   ]
  },
  {
   "cell_type": "code",
   "execution_count": 78,
   "id": "485e6b45",
   "metadata": {},
   "outputs": [],
   "source": [
    "from statsmodels.stats.outliers_influence import variance_inflation_factor as VIF"
   ]
  },
  {
   "cell_type": "code",
   "execution_count": 79,
   "id": "4b1e9ffe",
   "metadata": {},
   "outputs": [],
   "source": [
    "def check_multi_co_linearity(X):\n",
    "    \n",
    "    vif_values = [ VIF(X.values, i) for i in range(X.shape[1])]  #List Comprehension\n",
    "    \n",
    "    DF1= pd.DataFrame(vif_values, columns = ['VIF Value'], index = X.columns).sort_values('VIF Value', ascending = True)\n",
    "    return DF1"
   ]
  },
  {
   "cell_type": "code",
   "execution_count": 80,
   "id": "38621cef",
   "metadata": {},
   "outputs": [
    {
     "data": {
      "text/html": [
       "<div>\n",
       "<style scoped>\n",
       "    .dataframe tbody tr th:only-of-type {\n",
       "        vertical-align: middle;\n",
       "    }\n",
       "\n",
       "    .dataframe tbody tr th {\n",
       "        vertical-align: top;\n",
       "    }\n",
       "\n",
       "    .dataframe thead th {\n",
       "        text-align: right;\n",
       "    }\n",
       "</style>\n",
       "<table border=\"1\" class=\"dataframe\">\n",
       "  <thead>\n",
       "    <tr style=\"text-align: right;\">\n",
       "      <th></th>\n",
       "      <th>VIF Value</th>\n",
       "    </tr>\n",
       "  </thead>\n",
       "  <tbody>\n",
       "    <tr>\n",
       "      <th>square_ft</th>\n",
       "      <td>1.000233</td>\n",
       "    </tr>\n",
       "    <tr>\n",
       "      <th>bhk_no</th>\n",
       "      <td>1.010068</td>\n",
       "    </tr>\n",
       "    <tr>\n",
       "      <th>latitude</th>\n",
       "      <td>1.032518</td>\n",
       "    </tr>\n",
       "    <tr>\n",
       "      <th>longitude</th>\n",
       "      <td>1.044849</td>\n",
       "    </tr>\n",
       "    <tr>\n",
       "      <th>resale</th>\n",
       "      <td>1.166416</td>\n",
       "    </tr>\n",
       "    <tr>\n",
       "      <th>rera</th>\n",
       "      <td>1.199014</td>\n",
       "    </tr>\n",
       "    <tr>\n",
       "      <th>under_construction</th>\n",
       "      <td>16.999472</td>\n",
       "    </tr>\n",
       "    <tr>\n",
       "      <th>ready_to_move</th>\n",
       "      <td>78.569206</td>\n",
       "    </tr>\n",
       "  </tbody>\n",
       "</table>\n",
       "</div>"
      ],
      "text/plain": [
       "                    VIF Value\n",
       "square_ft            1.000233\n",
       "bhk_no               1.010068\n",
       "latitude             1.032518\n",
       "longitude            1.044849\n",
       "resale               1.166416\n",
       "rera                 1.199014\n",
       "under_construction  16.999472\n",
       "ready_to_move       78.569206"
      ]
     },
     "execution_count": 80,
     "metadata": {},
     "output_type": "execute_result"
    }
   ],
   "source": [
    "check_multi_co_linearity(x)"
   ]
  },
  {
   "cell_type": "markdown",
   "id": "68d287b5",
   "metadata": {},
   "source": [
    "# --------------------------------Data Preposssing----------------------------------"
   ]
  },
  {
   "cell_type": "markdown",
   "id": "e7f70ff8",
   "metadata": {},
   "source": [
    "# Features_Scaling"
   ]
  },
  {
   "cell_type": "markdown",
   "id": "44a63a89",
   "metadata": {},
   "source": [
    "### *Normalization:-"
   ]
  },
  {
   "cell_type": "code",
   "execution_count": 81,
   "id": "6795c67d",
   "metadata": {},
   "outputs": [
    {
     "data": {
      "text/plain": [
       "Index(['posted_by', 'under_construction', 'rera', 'bhk_no', 'bhk_or_rk',\n",
       "       'square_ft', 'ready_to_move', 'resale', 'longitude', 'latitude',\n",
       "       'target'],\n",
       "      dtype='object')"
      ]
     },
     "execution_count": 81,
     "metadata": {},
     "output_type": "execute_result"
    }
   ],
   "source": [
    "df.columns"
   ]
  },
  {
   "cell_type": "code",
   "execution_count": 82,
   "id": "8402eae6",
   "metadata": {},
   "outputs": [],
   "source": [
    "s = df.drop(columns=['posted_by','bhk_or_rk'])"
   ]
  },
  {
   "cell_type": "code",
   "execution_count": 83,
   "id": "358a5416",
   "metadata": {},
   "outputs": [],
   "source": [
    "from sklearn.preprocessing import minmax_scale"
   ]
  },
  {
   "cell_type": "code",
   "execution_count": 84,
   "id": "29abc477",
   "metadata": {},
   "outputs": [],
   "source": [
    "mm = minmax_scale(s)"
   ]
  },
  {
   "cell_type": "code",
   "execution_count": 85,
   "id": "aea7d7b9",
   "metadata": {},
   "outputs": [],
   "source": [
    "normal = pd.DataFrame(mm,columns=s.columns)"
   ]
  },
  {
   "cell_type": "code",
   "execution_count": 86,
   "id": "6a6d634f",
   "metadata": {},
   "outputs": [
    {
     "data": {
      "text/html": [
       "<div>\n",
       "<style scoped>\n",
       "    .dataframe tbody tr th:only-of-type {\n",
       "        vertical-align: middle;\n",
       "    }\n",
       "\n",
       "    .dataframe tbody tr th {\n",
       "        vertical-align: top;\n",
       "    }\n",
       "\n",
       "    .dataframe thead th {\n",
       "        text-align: right;\n",
       "    }\n",
       "</style>\n",
       "<table border=\"1\" class=\"dataframe\">\n",
       "  <thead>\n",
       "    <tr style=\"text-align: right;\">\n",
       "      <th></th>\n",
       "      <th>under_construction</th>\n",
       "      <th>rera</th>\n",
       "      <th>bhk_no</th>\n",
       "      <th>square_ft</th>\n",
       "      <th>ready_to_move</th>\n",
       "      <th>resale</th>\n",
       "      <th>longitude</th>\n",
       "      <th>latitude</th>\n",
       "      <th>target</th>\n",
       "    </tr>\n",
       "  </thead>\n",
       "  <tbody>\n",
       "    <tr>\n",
       "      <th>0</th>\n",
       "      <td>0.0</td>\n",
       "      <td>0.0</td>\n",
       "      <td>0.052632</td>\n",
       "      <td>0.000005</td>\n",
       "      <td>1.0</td>\n",
       "      <td>1.0</td>\n",
       "      <td>0.519154</td>\n",
       "      <td>0.725671</td>\n",
       "      <td>0.001825</td>\n",
       "    </tr>\n",
       "    <tr>\n",
       "      <th>1</th>\n",
       "      <td>0.0</td>\n",
       "      <td>0.0</td>\n",
       "      <td>0.052632</td>\n",
       "      <td>0.000005</td>\n",
       "      <td>1.0</td>\n",
       "      <td>1.0</td>\n",
       "      <td>0.512032</td>\n",
       "      <td>0.722201</td>\n",
       "      <td>0.001692</td>\n",
       "    </tr>\n",
       "    <tr>\n",
       "      <th>2</th>\n",
       "      <td>0.0</td>\n",
       "      <td>0.0</td>\n",
       "      <td>0.052632</td>\n",
       "      <td>0.000004</td>\n",
       "      <td>1.0</td>\n",
       "      <td>1.0</td>\n",
       "      <td>0.517189</td>\n",
       "      <td>0.725796</td>\n",
       "      <td>0.001425</td>\n",
       "    </tr>\n",
       "    <tr>\n",
       "      <th>3</th>\n",
       "      <td>0.0</td>\n",
       "      <td>1.0</td>\n",
       "      <td>0.052632</td>\n",
       "      <td>0.000004</td>\n",
       "      <td>1.0</td>\n",
       "      <td>1.0</td>\n",
       "      <td>0.679690</td>\n",
       "      <td>0.724748</td>\n",
       "      <td>0.002075</td>\n",
       "    </tr>\n",
       "    <tr>\n",
       "      <th>4</th>\n",
       "      <td>1.0</td>\n",
       "      <td>0.0</td>\n",
       "      <td>0.052632</td>\n",
       "      <td>0.000004</td>\n",
       "      <td>0.0</td>\n",
       "      <td>1.0</td>\n",
       "      <td>0.617717</td>\n",
       "      <td>0.765300</td>\n",
       "      <td>0.002008</td>\n",
       "    </tr>\n",
       "    <tr>\n",
       "      <th>...</th>\n",
       "      <td>...</td>\n",
       "      <td>...</td>\n",
       "      <td>...</td>\n",
       "      <td>...</td>\n",
       "      <td>...</td>\n",
       "      <td>...</td>\n",
       "      <td>...</td>\n",
       "      <td>...</td>\n",
       "      <td>...</td>\n",
       "    </tr>\n",
       "    <tr>\n",
       "      <th>28561</th>\n",
       "      <td>0.0</td>\n",
       "      <td>0.0</td>\n",
       "      <td>0.105263</td>\n",
       "      <td>0.000010</td>\n",
       "      <td>1.0</td>\n",
       "      <td>1.0</td>\n",
       "      <td>0.664308</td>\n",
       "      <td>0.727292</td>\n",
       "      <td>0.001492</td>\n",
       "    </tr>\n",
       "    <tr>\n",
       "      <th>28562</th>\n",
       "      <td>0.0</td>\n",
       "      <td>0.0</td>\n",
       "      <td>0.052632</td>\n",
       "      <td>0.000003</td>\n",
       "      <td>1.0</td>\n",
       "      <td>1.0</td>\n",
       "      <td>0.795469</td>\n",
       "      <td>0.129623</td>\n",
       "      <td>0.000525</td>\n",
       "    </tr>\n",
       "    <tr>\n",
       "      <th>28563</th>\n",
       "      <td>0.0</td>\n",
       "      <td>0.0</td>\n",
       "      <td>0.052632</td>\n",
       "      <td>0.000004</td>\n",
       "      <td>1.0</td>\n",
       "      <td>1.0</td>\n",
       "      <td>0.662138</td>\n",
       "      <td>0.719228</td>\n",
       "      <td>0.000895</td>\n",
       "    </tr>\n",
       "    <tr>\n",
       "      <th>28564</th>\n",
       "      <td>0.0</td>\n",
       "      <td>0.0</td>\n",
       "      <td>0.052632</td>\n",
       "      <td>0.000004</td>\n",
       "      <td>1.0</td>\n",
       "      <td>1.0</td>\n",
       "      <td>0.518440</td>\n",
       "      <td>0.735244</td>\n",
       "      <td>0.002225</td>\n",
       "    </tr>\n",
       "    <tr>\n",
       "      <th>28565</th>\n",
       "      <td>0.0</td>\n",
       "      <td>1.0</td>\n",
       "      <td>0.052632</td>\n",
       "      <td>0.000004</td>\n",
       "      <td>1.0</td>\n",
       "      <td>1.0</td>\n",
       "      <td>0.661150</td>\n",
       "      <td>0.719278</td>\n",
       "      <td>0.000918</td>\n",
       "    </tr>\n",
       "  </tbody>\n",
       "</table>\n",
       "<p>28566 rows × 9 columns</p>\n",
       "</div>"
      ],
      "text/plain": [
       "       under_construction  rera    bhk_no  square_ft  ready_to_move  resale  \\\n",
       "0                     0.0   0.0  0.052632   0.000005            1.0     1.0   \n",
       "1                     0.0   0.0  0.052632   0.000005            1.0     1.0   \n",
       "2                     0.0   0.0  0.052632   0.000004            1.0     1.0   \n",
       "3                     0.0   1.0  0.052632   0.000004            1.0     1.0   \n",
       "4                     1.0   0.0  0.052632   0.000004            0.0     1.0   \n",
       "...                   ...   ...       ...        ...            ...     ...   \n",
       "28561                 0.0   0.0  0.105263   0.000010            1.0     1.0   \n",
       "28562                 0.0   0.0  0.052632   0.000003            1.0     1.0   \n",
       "28563                 0.0   0.0  0.052632   0.000004            1.0     1.0   \n",
       "28564                 0.0   0.0  0.052632   0.000004            1.0     1.0   \n",
       "28565                 0.0   1.0  0.052632   0.000004            1.0     1.0   \n",
       "\n",
       "       longitude  latitude    target  \n",
       "0       0.519154  0.725671  0.001825  \n",
       "1       0.512032  0.722201  0.001692  \n",
       "2       0.517189  0.725796  0.001425  \n",
       "3       0.679690  0.724748  0.002075  \n",
       "4       0.617717  0.765300  0.002008  \n",
       "...          ...       ...       ...  \n",
       "28561   0.664308  0.727292  0.001492  \n",
       "28562   0.795469  0.129623  0.000525  \n",
       "28563   0.662138  0.719228  0.000895  \n",
       "28564   0.518440  0.735244  0.002225  \n",
       "28565   0.661150  0.719278  0.000918  \n",
       "\n",
       "[28566 rows x 9 columns]"
      ]
     },
     "execution_count": 86,
     "metadata": {},
     "output_type": "execute_result"
    }
   ],
   "source": [
    "normal"
   ]
  },
  {
   "cell_type": "markdown",
   "id": "b4083586",
   "metadata": {},
   "source": [
    "### *Standardization"
   ]
  },
  {
   "cell_type": "code",
   "execution_count": 87,
   "id": "2a11382b",
   "metadata": {},
   "outputs": [],
   "source": [
    "from sklearn.preprocessing import StandardScaler"
   ]
  },
  {
   "cell_type": "code",
   "execution_count": 88,
   "id": "c425a491",
   "metadata": {},
   "outputs": [],
   "source": [
    "sc = StandardScaler()"
   ]
  },
  {
   "cell_type": "code",
   "execution_count": 89,
   "id": "2831372a",
   "metadata": {},
   "outputs": [],
   "source": [
    "x_sc = sc.fit_transform(normal)"
   ]
  },
  {
   "cell_type": "code",
   "execution_count": 90,
   "id": "223fe38a",
   "metadata": {},
   "outputs": [],
   "source": [
    "x_sc = pd.DataFrame(x_sc,columns=normal.columns)"
   ]
  },
  {
   "cell_type": "code",
   "execution_count": 91,
   "id": "7d5241a7",
   "metadata": {},
   "outputs": [
    {
     "data": {
      "text/html": [
       "<div>\n",
       "<style scoped>\n",
       "    .dataframe tbody tr th:only-of-type {\n",
       "        vertical-align: middle;\n",
       "    }\n",
       "\n",
       "    .dataframe tbody tr th {\n",
       "        vertical-align: top;\n",
       "    }\n",
       "\n",
       "    .dataframe thead th {\n",
       "        text-align: right;\n",
       "    }\n",
       "</style>\n",
       "<table border=\"1\" class=\"dataframe\">\n",
       "  <thead>\n",
       "    <tr style=\"text-align: right;\">\n",
       "      <th></th>\n",
       "      <th>under_construction</th>\n",
       "      <th>rera</th>\n",
       "      <th>bhk_no</th>\n",
       "      <th>square_ft</th>\n",
       "      <th>ready_to_move</th>\n",
       "      <th>resale</th>\n",
       "      <th>longitude</th>\n",
       "      <th>latitude</th>\n",
       "      <th>target</th>\n",
       "    </tr>\n",
       "  </thead>\n",
       "  <tbody>\n",
       "    <tr>\n",
       "      <th>0</th>\n",
       "      <td>-0.463799</td>\n",
       "      <td>-0.675525</td>\n",
       "      <td>-0.447136</td>\n",
       "      <td>-0.009863</td>\n",
       "      <td>0.463799</td>\n",
       "      <td>0.270077</td>\n",
       "      <td>-1.335944</td>\n",
       "      <td>0.066618</td>\n",
       "      <td>-0.130475</td>\n",
       "    </tr>\n",
       "    <tr>\n",
       "      <th>1</th>\n",
       "      <td>-0.463799</td>\n",
       "      <td>-0.675525</td>\n",
       "      <td>-0.447136</td>\n",
       "      <td>-0.009876</td>\n",
       "      <td>0.463799</td>\n",
       "      <td>0.270077</td>\n",
       "      <td>-1.447415</td>\n",
       "      <td>-0.022942</td>\n",
       "      <td>-0.136661</td>\n",
       "    </tr>\n",
       "    <tr>\n",
       "      <th>2</th>\n",
       "      <td>-0.463799</td>\n",
       "      <td>-0.675525</td>\n",
       "      <td>-0.447136</td>\n",
       "      <td>-0.010053</td>\n",
       "      <td>0.463799</td>\n",
       "      <td>0.270077</td>\n",
       "      <td>-1.366703</td>\n",
       "      <td>0.069834</td>\n",
       "      <td>-0.149034</td>\n",
       "    </tr>\n",
       "    <tr>\n",
       "      <th>3</th>\n",
       "      <td>-0.463799</td>\n",
       "      <td>1.480329</td>\n",
       "      <td>-0.447136</td>\n",
       "      <td>-0.010054</td>\n",
       "      <td>0.463799</td>\n",
       "      <td>0.270077</td>\n",
       "      <td>1.176418</td>\n",
       "      <td>0.042808</td>\n",
       "      <td>-0.118876</td>\n",
       "    </tr>\n",
       "    <tr>\n",
       "      <th>4</th>\n",
       "      <td>2.156108</td>\n",
       "      <td>-0.675525</td>\n",
       "      <td>-0.447136</td>\n",
       "      <td>-0.010019</td>\n",
       "      <td>-2.156108</td>\n",
       "      <td>0.270077</td>\n",
       "      <td>0.206557</td>\n",
       "      <td>1.089364</td>\n",
       "      <td>-0.121969</td>\n",
       "    </tr>\n",
       "    <tr>\n",
       "      <th>...</th>\n",
       "      <td>...</td>\n",
       "      <td>...</td>\n",
       "      <td>...</td>\n",
       "      <td>...</td>\n",
       "      <td>...</td>\n",
       "      <td>...</td>\n",
       "      <td>...</td>\n",
       "      <td>...</td>\n",
       "      <td>...</td>\n",
       "    </tr>\n",
       "    <tr>\n",
       "      <th>28561</th>\n",
       "      <td>-0.463799</td>\n",
       "      <td>-0.675525</td>\n",
       "      <td>0.688635</td>\n",
       "      <td>-0.009241</td>\n",
       "      <td>0.463799</td>\n",
       "      <td>0.270077</td>\n",
       "      <td>0.935692</td>\n",
       "      <td>0.108452</td>\n",
       "      <td>-0.145941</td>\n",
       "    </tr>\n",
       "    <tr>\n",
       "      <th>28562</th>\n",
       "      <td>-0.463799</td>\n",
       "      <td>-0.675525</td>\n",
       "      <td>-0.447136</td>\n",
       "      <td>-0.010138</td>\n",
       "      <td>0.463799</td>\n",
       "      <td>0.270077</td>\n",
       "      <td>2.988362</td>\n",
       "      <td>-15.316315</td>\n",
       "      <td>-0.190791</td>\n",
       "    </tr>\n",
       "    <tr>\n",
       "      <th>28563</th>\n",
       "      <td>-0.463799</td>\n",
       "      <td>-0.675525</td>\n",
       "      <td>-0.447136</td>\n",
       "      <td>-0.010006</td>\n",
       "      <td>0.463799</td>\n",
       "      <td>0.270077</td>\n",
       "      <td>0.901733</td>\n",
       "      <td>-0.099656</td>\n",
       "      <td>-0.173624</td>\n",
       "    </tr>\n",
       "    <tr>\n",
       "      <th>28564</th>\n",
       "      <td>-0.463799</td>\n",
       "      <td>-0.675525</td>\n",
       "      <td>-0.447136</td>\n",
       "      <td>-0.010056</td>\n",
       "      <td>0.463799</td>\n",
       "      <td>0.270077</td>\n",
       "      <td>-1.347127</td>\n",
       "      <td>0.313682</td>\n",
       "      <td>-0.111917</td>\n",
       "    </tr>\n",
       "    <tr>\n",
       "      <th>28565</th>\n",
       "      <td>-0.463799</td>\n",
       "      <td>1.480329</td>\n",
       "      <td>-0.447136</td>\n",
       "      <td>-0.010072</td>\n",
       "      <td>0.463799</td>\n",
       "      <td>0.270077</td>\n",
       "      <td>0.886274</td>\n",
       "      <td>-0.098364</td>\n",
       "      <td>-0.172541</td>\n",
       "    </tr>\n",
       "  </tbody>\n",
       "</table>\n",
       "<p>28566 rows × 9 columns</p>\n",
       "</div>"
      ],
      "text/plain": [
       "       under_construction      rera    bhk_no  square_ft  ready_to_move  \\\n",
       "0               -0.463799 -0.675525 -0.447136  -0.009863       0.463799   \n",
       "1               -0.463799 -0.675525 -0.447136  -0.009876       0.463799   \n",
       "2               -0.463799 -0.675525 -0.447136  -0.010053       0.463799   \n",
       "3               -0.463799  1.480329 -0.447136  -0.010054       0.463799   \n",
       "4                2.156108 -0.675525 -0.447136  -0.010019      -2.156108   \n",
       "...                   ...       ...       ...        ...            ...   \n",
       "28561           -0.463799 -0.675525  0.688635  -0.009241       0.463799   \n",
       "28562           -0.463799 -0.675525 -0.447136  -0.010138       0.463799   \n",
       "28563           -0.463799 -0.675525 -0.447136  -0.010006       0.463799   \n",
       "28564           -0.463799 -0.675525 -0.447136  -0.010056       0.463799   \n",
       "28565           -0.463799  1.480329 -0.447136  -0.010072       0.463799   \n",
       "\n",
       "         resale  longitude   latitude    target  \n",
       "0      0.270077  -1.335944   0.066618 -0.130475  \n",
       "1      0.270077  -1.447415  -0.022942 -0.136661  \n",
       "2      0.270077  -1.366703   0.069834 -0.149034  \n",
       "3      0.270077   1.176418   0.042808 -0.118876  \n",
       "4      0.270077   0.206557   1.089364 -0.121969  \n",
       "...         ...        ...        ...       ...  \n",
       "28561  0.270077   0.935692   0.108452 -0.145941  \n",
       "28562  0.270077   2.988362 -15.316315 -0.190791  \n",
       "28563  0.270077   0.901733  -0.099656 -0.173624  \n",
       "28564  0.270077  -1.347127   0.313682 -0.111917  \n",
       "28565  0.270077   0.886274  -0.098364 -0.172541  \n",
       "\n",
       "[28566 rows x 9 columns]"
      ]
     },
     "execution_count": 91,
     "metadata": {},
     "output_type": "execute_result"
    }
   ],
   "source": [
    "x_sc"
   ]
  },
  {
   "cell_type": "markdown",
   "id": "4889ab1d",
   "metadata": {},
   "source": [
    "# Feature_Encoding:"
   ]
  },
  {
   "cell_type": "code",
   "execution_count": 92,
   "id": "a19375c8",
   "metadata": {},
   "outputs": [
    {
     "data": {
      "text/plain": [
       "Index(['posted_by', 'under_construction', 'rera', 'bhk_no', 'bhk_or_rk',\n",
       "       'ready_to_move', 'resale'],\n",
       "      dtype='object')"
      ]
     },
     "execution_count": 92,
     "metadata": {},
     "output_type": "execute_result"
    }
   ],
   "source": [
    "df_cat.columns"
   ]
  },
  {
   "cell_type": "code",
   "execution_count": 93,
   "id": "bb4186da",
   "metadata": {
    "scrolled": true
   },
   "outputs": [
    {
     "data": {
      "text/plain": [
       "Dealer     17508\n",
       "Owner      10448\n",
       "Builder      610\n",
       "Name: posted_by, dtype: int64"
      ]
     },
     "execution_count": 93,
     "metadata": {},
     "output_type": "execute_result"
    }
   ],
   "source": [
    "df.posted_by.value_counts()"
   ]
  },
  {
   "cell_type": "code",
   "execution_count": 94,
   "id": "efbaf9f4",
   "metadata": {},
   "outputs": [],
   "source": [
    "x_cat = pd.get_dummies(df.drop(columns=['target','square_ft','longitude','latitude']), drop_first = True)"
   ]
  },
  {
   "cell_type": "code",
   "execution_count": 95,
   "id": "b640c1ca",
   "metadata": {},
   "outputs": [
    {
     "data": {
      "text/plain": [
       "((28566, 9), (28566, 8))"
      ]
     },
     "execution_count": 95,
     "metadata": {},
     "output_type": "execute_result"
    }
   ],
   "source": [
    "x_sc.shape, x_cat.shape"
   ]
  },
  {
   "cell_type": "code",
   "execution_count": 96,
   "id": "26fb247a",
   "metadata": {},
   "outputs": [],
   "source": [
    "x_cat.reset_index(drop = True, inplace = True)\n",
    "x_sc.reset_index(drop = True, inplace = True)"
   ]
  },
  {
   "cell_type": "code",
   "execution_count": 97,
   "id": "38bbfaa6",
   "metadata": {},
   "outputs": [],
   "source": [
    "df_model=pd.concat([x_cat, x_sc], axis = 1)"
   ]
  },
  {
   "cell_type": "code",
   "execution_count": 98,
   "id": "495c1793",
   "metadata": {},
   "outputs": [
    {
     "data": {
      "text/html": [
       "<div>\n",
       "<style scoped>\n",
       "    .dataframe tbody tr th:only-of-type {\n",
       "        vertical-align: middle;\n",
       "    }\n",
       "\n",
       "    .dataframe tbody tr th {\n",
       "        vertical-align: top;\n",
       "    }\n",
       "\n",
       "    .dataframe thead th {\n",
       "        text-align: right;\n",
       "    }\n",
       "</style>\n",
       "<table border=\"1\" class=\"dataframe\">\n",
       "  <thead>\n",
       "    <tr style=\"text-align: right;\">\n",
       "      <th></th>\n",
       "      <th>under_construction</th>\n",
       "      <th>rera</th>\n",
       "      <th>bhk_no</th>\n",
       "      <th>ready_to_move</th>\n",
       "      <th>resale</th>\n",
       "      <th>posted_by_Dealer</th>\n",
       "      <th>posted_by_Owner</th>\n",
       "      <th>bhk_or_rk_RK</th>\n",
       "      <th>under_construction</th>\n",
       "      <th>rera</th>\n",
       "      <th>bhk_no</th>\n",
       "      <th>square_ft</th>\n",
       "      <th>ready_to_move</th>\n",
       "      <th>resale</th>\n",
       "      <th>longitude</th>\n",
       "      <th>latitude</th>\n",
       "      <th>target</th>\n",
       "    </tr>\n",
       "  </thead>\n",
       "  <tbody>\n",
       "    <tr>\n",
       "      <th>0</th>\n",
       "      <td>0</td>\n",
       "      <td>0</td>\n",
       "      <td>2</td>\n",
       "      <td>1</td>\n",
       "      <td>1</td>\n",
       "      <td>0</td>\n",
       "      <td>1</td>\n",
       "      <td>0</td>\n",
       "      <td>-0.463799</td>\n",
       "      <td>-0.675525</td>\n",
       "      <td>-0.447136</td>\n",
       "      <td>-0.009863</td>\n",
       "      <td>0.463799</td>\n",
       "      <td>0.270077</td>\n",
       "      <td>-1.335944</td>\n",
       "      <td>0.066618</td>\n",
       "      <td>-0.130475</td>\n",
       "    </tr>\n",
       "    <tr>\n",
       "      <th>1</th>\n",
       "      <td>0</td>\n",
       "      <td>0</td>\n",
       "      <td>2</td>\n",
       "      <td>1</td>\n",
       "      <td>1</td>\n",
       "      <td>1</td>\n",
       "      <td>0</td>\n",
       "      <td>0</td>\n",
       "      <td>-0.463799</td>\n",
       "      <td>-0.675525</td>\n",
       "      <td>-0.447136</td>\n",
       "      <td>-0.009876</td>\n",
       "      <td>0.463799</td>\n",
       "      <td>0.270077</td>\n",
       "      <td>-1.447415</td>\n",
       "      <td>-0.022942</td>\n",
       "      <td>-0.136661</td>\n",
       "    </tr>\n",
       "    <tr>\n",
       "      <th>2</th>\n",
       "      <td>0</td>\n",
       "      <td>0</td>\n",
       "      <td>2</td>\n",
       "      <td>1</td>\n",
       "      <td>1</td>\n",
       "      <td>0</td>\n",
       "      <td>1</td>\n",
       "      <td>0</td>\n",
       "      <td>-0.463799</td>\n",
       "      <td>-0.675525</td>\n",
       "      <td>-0.447136</td>\n",
       "      <td>-0.010053</td>\n",
       "      <td>0.463799</td>\n",
       "      <td>0.270077</td>\n",
       "      <td>-1.366703</td>\n",
       "      <td>0.069834</td>\n",
       "      <td>-0.149034</td>\n",
       "    </tr>\n",
       "    <tr>\n",
       "      <th>3</th>\n",
       "      <td>0</td>\n",
       "      <td>1</td>\n",
       "      <td>2</td>\n",
       "      <td>1</td>\n",
       "      <td>1</td>\n",
       "      <td>0</td>\n",
       "      <td>1</td>\n",
       "      <td>0</td>\n",
       "      <td>-0.463799</td>\n",
       "      <td>1.480329</td>\n",
       "      <td>-0.447136</td>\n",
       "      <td>-0.010054</td>\n",
       "      <td>0.463799</td>\n",
       "      <td>0.270077</td>\n",
       "      <td>1.176418</td>\n",
       "      <td>0.042808</td>\n",
       "      <td>-0.118876</td>\n",
       "    </tr>\n",
       "    <tr>\n",
       "      <th>4</th>\n",
       "      <td>1</td>\n",
       "      <td>0</td>\n",
       "      <td>2</td>\n",
       "      <td>0</td>\n",
       "      <td>1</td>\n",
       "      <td>1</td>\n",
       "      <td>0</td>\n",
       "      <td>0</td>\n",
       "      <td>2.156108</td>\n",
       "      <td>-0.675525</td>\n",
       "      <td>-0.447136</td>\n",
       "      <td>-0.010019</td>\n",
       "      <td>-2.156108</td>\n",
       "      <td>0.270077</td>\n",
       "      <td>0.206557</td>\n",
       "      <td>1.089364</td>\n",
       "      <td>-0.121969</td>\n",
       "    </tr>\n",
       "    <tr>\n",
       "      <th>...</th>\n",
       "      <td>...</td>\n",
       "      <td>...</td>\n",
       "      <td>...</td>\n",
       "      <td>...</td>\n",
       "      <td>...</td>\n",
       "      <td>...</td>\n",
       "      <td>...</td>\n",
       "      <td>...</td>\n",
       "      <td>...</td>\n",
       "      <td>...</td>\n",
       "      <td>...</td>\n",
       "      <td>...</td>\n",
       "      <td>...</td>\n",
       "      <td>...</td>\n",
       "      <td>...</td>\n",
       "      <td>...</td>\n",
       "      <td>...</td>\n",
       "    </tr>\n",
       "    <tr>\n",
       "      <th>28561</th>\n",
       "      <td>0</td>\n",
       "      <td>0</td>\n",
       "      <td>3</td>\n",
       "      <td>1</td>\n",
       "      <td>1</td>\n",
       "      <td>0</td>\n",
       "      <td>1</td>\n",
       "      <td>0</td>\n",
       "      <td>-0.463799</td>\n",
       "      <td>-0.675525</td>\n",
       "      <td>0.688635</td>\n",
       "      <td>-0.009241</td>\n",
       "      <td>0.463799</td>\n",
       "      <td>0.270077</td>\n",
       "      <td>0.935692</td>\n",
       "      <td>0.108452</td>\n",
       "      <td>-0.145941</td>\n",
       "    </tr>\n",
       "    <tr>\n",
       "      <th>28562</th>\n",
       "      <td>0</td>\n",
       "      <td>0</td>\n",
       "      <td>2</td>\n",
       "      <td>1</td>\n",
       "      <td>1</td>\n",
       "      <td>0</td>\n",
       "      <td>1</td>\n",
       "      <td>0</td>\n",
       "      <td>-0.463799</td>\n",
       "      <td>-0.675525</td>\n",
       "      <td>-0.447136</td>\n",
       "      <td>-0.010138</td>\n",
       "      <td>0.463799</td>\n",
       "      <td>0.270077</td>\n",
       "      <td>2.988362</td>\n",
       "      <td>-15.316315</td>\n",
       "      <td>-0.190791</td>\n",
       "    </tr>\n",
       "    <tr>\n",
       "      <th>28563</th>\n",
       "      <td>0</td>\n",
       "      <td>0</td>\n",
       "      <td>2</td>\n",
       "      <td>1</td>\n",
       "      <td>1</td>\n",
       "      <td>1</td>\n",
       "      <td>0</td>\n",
       "      <td>0</td>\n",
       "      <td>-0.463799</td>\n",
       "      <td>-0.675525</td>\n",
       "      <td>-0.447136</td>\n",
       "      <td>-0.010006</td>\n",
       "      <td>0.463799</td>\n",
       "      <td>0.270077</td>\n",
       "      <td>0.901733</td>\n",
       "      <td>-0.099656</td>\n",
       "      <td>-0.173624</td>\n",
       "    </tr>\n",
       "    <tr>\n",
       "      <th>28564</th>\n",
       "      <td>0</td>\n",
       "      <td>0</td>\n",
       "      <td>2</td>\n",
       "      <td>1</td>\n",
       "      <td>1</td>\n",
       "      <td>0</td>\n",
       "      <td>1</td>\n",
       "      <td>0</td>\n",
       "      <td>-0.463799</td>\n",
       "      <td>-0.675525</td>\n",
       "      <td>-0.447136</td>\n",
       "      <td>-0.010056</td>\n",
       "      <td>0.463799</td>\n",
       "      <td>0.270077</td>\n",
       "      <td>-1.347127</td>\n",
       "      <td>0.313682</td>\n",
       "      <td>-0.111917</td>\n",
       "    </tr>\n",
       "    <tr>\n",
       "      <th>28565</th>\n",
       "      <td>0</td>\n",
       "      <td>1</td>\n",
       "      <td>2</td>\n",
       "      <td>1</td>\n",
       "      <td>1</td>\n",
       "      <td>1</td>\n",
       "      <td>0</td>\n",
       "      <td>0</td>\n",
       "      <td>-0.463799</td>\n",
       "      <td>1.480329</td>\n",
       "      <td>-0.447136</td>\n",
       "      <td>-0.010072</td>\n",
       "      <td>0.463799</td>\n",
       "      <td>0.270077</td>\n",
       "      <td>0.886274</td>\n",
       "      <td>-0.098364</td>\n",
       "      <td>-0.172541</td>\n",
       "    </tr>\n",
       "  </tbody>\n",
       "</table>\n",
       "<p>28566 rows × 17 columns</p>\n",
       "</div>"
      ],
      "text/plain": [
       "       under_construction  rera  bhk_no  ready_to_move  resale  \\\n",
       "0                       0     0       2              1       1   \n",
       "1                       0     0       2              1       1   \n",
       "2                       0     0       2              1       1   \n",
       "3                       0     1       2              1       1   \n",
       "4                       1     0       2              0       1   \n",
       "...                   ...   ...     ...            ...     ...   \n",
       "28561                   0     0       3              1       1   \n",
       "28562                   0     0       2              1       1   \n",
       "28563                   0     0       2              1       1   \n",
       "28564                   0     0       2              1       1   \n",
       "28565                   0     1       2              1       1   \n",
       "\n",
       "       posted_by_Dealer  posted_by_Owner  bhk_or_rk_RK  under_construction  \\\n",
       "0                     0                1             0           -0.463799   \n",
       "1                     1                0             0           -0.463799   \n",
       "2                     0                1             0           -0.463799   \n",
       "3                     0                1             0           -0.463799   \n",
       "4                     1                0             0            2.156108   \n",
       "...                 ...              ...           ...                 ...   \n",
       "28561                 0                1             0           -0.463799   \n",
       "28562                 0                1             0           -0.463799   \n",
       "28563                 1                0             0           -0.463799   \n",
       "28564                 0                1             0           -0.463799   \n",
       "28565                 1                0             0           -0.463799   \n",
       "\n",
       "           rera    bhk_no  square_ft  ready_to_move    resale  longitude  \\\n",
       "0     -0.675525 -0.447136  -0.009863       0.463799  0.270077  -1.335944   \n",
       "1     -0.675525 -0.447136  -0.009876       0.463799  0.270077  -1.447415   \n",
       "2     -0.675525 -0.447136  -0.010053       0.463799  0.270077  -1.366703   \n",
       "3      1.480329 -0.447136  -0.010054       0.463799  0.270077   1.176418   \n",
       "4     -0.675525 -0.447136  -0.010019      -2.156108  0.270077   0.206557   \n",
       "...         ...       ...        ...            ...       ...        ...   \n",
       "28561 -0.675525  0.688635  -0.009241       0.463799  0.270077   0.935692   \n",
       "28562 -0.675525 -0.447136  -0.010138       0.463799  0.270077   2.988362   \n",
       "28563 -0.675525 -0.447136  -0.010006       0.463799  0.270077   0.901733   \n",
       "28564 -0.675525 -0.447136  -0.010056       0.463799  0.270077  -1.347127   \n",
       "28565  1.480329 -0.447136  -0.010072       0.463799  0.270077   0.886274   \n",
       "\n",
       "        latitude    target  \n",
       "0       0.066618 -0.130475  \n",
       "1      -0.022942 -0.136661  \n",
       "2       0.069834 -0.149034  \n",
       "3       0.042808 -0.118876  \n",
       "4       1.089364 -0.121969  \n",
       "...          ...       ...  \n",
       "28561   0.108452 -0.145941  \n",
       "28562 -15.316315 -0.190791  \n",
       "28563  -0.099656 -0.173624  \n",
       "28564   0.313682 -0.111917  \n",
       "28565  -0.098364 -0.172541  \n",
       "\n",
       "[28566 rows x 17 columns]"
      ]
     },
     "execution_count": 98,
     "metadata": {},
     "output_type": "execute_result"
    }
   ],
   "source": [
    "df_model"
   ]
  },
  {
   "cell_type": "code",
   "execution_count": 99,
   "id": "1db6a711",
   "metadata": {},
   "outputs": [
    {
     "data": {
      "text/plain": [
       "(28566, 17)"
      ]
     },
     "execution_count": 99,
     "metadata": {},
     "output_type": "execute_result"
    }
   ],
   "source": [
    "df_model.shape"
   ]
  },
  {
   "cell_type": "code",
   "execution_count": 100,
   "id": "bee6577f",
   "metadata": {},
   "outputs": [],
   "source": [
    "X = df_model .iloc[:,:-1]"
   ]
  },
  {
   "cell_type": "code",
   "execution_count": 101,
   "id": "5e02fa88",
   "metadata": {},
   "outputs": [],
   "source": [
    "Y = df_model.iloc[:,-1]"
   ]
  },
  {
   "cell_type": "markdown",
   "id": "d1a41e7d",
   "metadata": {},
   "source": [
    "# Train & Test Split"
   ]
  },
  {
   "cell_type": "code",
   "execution_count": 102,
   "id": "f2b6d9b3",
   "metadata": {},
   "outputs": [],
   "source": [
    "from sklearn.model_selection import train_test_split"
   ]
  },
  {
   "cell_type": "code",
   "execution_count": 103,
   "id": "feb1bc60",
   "metadata": {},
   "outputs": [],
   "source": [
    "x_train,x_test,y_train,y_test = train_test_split(X,Y,test_size=0.3,random_state=70)"
   ]
  },
  {
   "cell_type": "code",
   "execution_count": 104,
   "id": "e62bde40",
   "metadata": {},
   "outputs": [
    {
     "data": {
      "text/plain": [
       "(19996, 16)"
      ]
     },
     "execution_count": 104,
     "metadata": {},
     "output_type": "execute_result"
    }
   ],
   "source": [
    "x_train.shape"
   ]
  },
  {
   "cell_type": "code",
   "execution_count": 105,
   "id": "4c18d69f",
   "metadata": {},
   "outputs": [
    {
     "data": {
      "text/plain": [
       "(8570, 16)"
      ]
     },
     "execution_count": 105,
     "metadata": {},
     "output_type": "execute_result"
    }
   ],
   "source": [
    "x_test.shape"
   ]
  },
  {
   "cell_type": "code",
   "execution_count": 106,
   "id": "95f1360c",
   "metadata": {},
   "outputs": [
    {
     "data": {
      "text/plain": [
       "(19996,)"
      ]
     },
     "execution_count": 106,
     "metadata": {},
     "output_type": "execute_result"
    }
   ],
   "source": [
    "y_train.shape"
   ]
  },
  {
   "cell_type": "code",
   "execution_count": 107,
   "id": "af83a317",
   "metadata": {},
   "outputs": [
    {
     "data": {
      "text/plain": [
       "(8570,)"
      ]
     },
     "execution_count": 107,
     "metadata": {},
     "output_type": "execute_result"
    }
   ],
   "source": [
    "y_test.shape"
   ]
  },
  {
   "cell_type": "markdown",
   "id": "4d5d2a05",
   "metadata": {},
   "source": [
    "# Linear_Model_Building----->1"
   ]
  },
  {
   "cell_type": "code",
   "execution_count": 108,
   "id": "ccca27b2",
   "metadata": {},
   "outputs": [],
   "source": [
    "import statsmodels.api as sm"
   ]
  },
  {
   "cell_type": "code",
   "execution_count": 109,
   "id": "4f307226",
   "metadata": {},
   "outputs": [],
   "source": [
    "model1 = sm.OLS(y_train,x_train).fit()"
   ]
  },
  {
   "cell_type": "code",
   "execution_count": 110,
   "id": "c72c1f0b",
   "metadata": {},
   "outputs": [
    {
     "data": {
      "text/html": [
       "<table class=\"simpletable\">\n",
       "<caption>OLS Regression Results</caption>\n",
       "<tr>\n",
       "  <th>Dep. Variable:</th>         <td>target</td>      <th>  R-squared:         </th> <td>   0.109</td> \n",
       "</tr>\n",
       "<tr>\n",
       "  <th>Model:</th>                   <td>OLS</td>       <th>  Adj. R-squared:    </th> <td>   0.109</td> \n",
       "</tr>\n",
       "<tr>\n",
       "  <th>Method:</th>             <td>Least Squares</td>  <th>  F-statistic:       </th> <td>   245.4</td> \n",
       "</tr>\n",
       "<tr>\n",
       "  <th>Date:</th>             <td>Fri, 05 May 2023</td> <th>  Prob (F-statistic):</th>  <td>  0.00</td>  \n",
       "</tr>\n",
       "<tr>\n",
       "  <th>Time:</th>                 <td>12:02:36</td>     <th>  Log-Likelihood:    </th> <td> -25015.</td> \n",
       "</tr>\n",
       "<tr>\n",
       "  <th>No. Observations:</th>      <td> 19996</td>      <th>  AIC:               </th> <td>5.005e+04</td>\n",
       "</tr>\n",
       "<tr>\n",
       "  <th>Df Residuals:</th>          <td> 19985</td>      <th>  BIC:               </th> <td>5.014e+04</td>\n",
       "</tr>\n",
       "<tr>\n",
       "  <th>Df Model:</th>              <td>    10</td>      <th>                     </th>     <td> </td>    \n",
       "</tr>\n",
       "<tr>\n",
       "  <th>Covariance Type:</th>      <td>nonrobust</td>    <th>                     </th>     <td> </td>    \n",
       "</tr>\n",
       "</table>\n",
       "<table class=\"simpletable\">\n",
       "<tr>\n",
       "           <td></td>             <th>coef</th>     <th>std err</th>      <th>t</th>      <th>P>|t|</th>  <th>[0.025</th>    <th>0.975]</th>  \n",
       "</tr>\n",
       "<tr>\n",
       "  <th>under_construction</th> <td>  1.15e+13</td> <td>  1.2e+12</td> <td>    9.544</td> <td> 0.000</td> <td> 9.14e+12</td> <td> 1.39e+13</td>\n",
       "</tr>\n",
       "<tr>\n",
       "  <th>rera</th>               <td>-3.228e+12</td> <td> 6.67e+11</td> <td>   -4.836</td> <td> 0.000</td> <td>-4.54e+12</td> <td>-1.92e+12</td>\n",
       "</tr>\n",
       "<tr>\n",
       "  <th>bhk_no</th>             <td> 6.249e+10</td> <td> 3.34e+11</td> <td>    0.187</td> <td> 0.852</td> <td>-5.93e+11</td> <td> 7.18e+11</td>\n",
       "</tr>\n",
       "<tr>\n",
       "  <th>ready_to_move</th>      <td>-8.338e+11</td> <td> 1.38e+12</td> <td>   -0.605</td> <td> 0.545</td> <td>-3.54e+12</td> <td> 1.87e+12</td>\n",
       "</tr>\n",
       "<tr>\n",
       "  <th>resale</th>             <td>-5.227e+11</td> <td> 3.13e+11</td> <td>   -1.673</td> <td> 0.094</td> <td>-1.14e+12</td> <td> 8.99e+10</td>\n",
       "</tr>\n",
       "<tr>\n",
       "  <th>posted_by_Dealer</th>   <td>    0.6919</td> <td>    0.049</td> <td>   14.073</td> <td> 0.000</td> <td>    0.596</td> <td>    0.788</td>\n",
       "</tr>\n",
       "<tr>\n",
       "  <th>posted_by_Owner</th>    <td>    0.5826</td> <td>    0.051</td> <td>   11.491</td> <td> 0.000</td> <td>    0.483</td> <td>    0.682</td>\n",
       "</tr>\n",
       "<tr>\n",
       "  <th>bhk_or_rk_RK</th>       <td>   -0.1313</td> <td>    0.206</td> <td>   -0.638</td> <td> 0.523</td> <td>   -0.535</td> <td>    0.272</td>\n",
       "</tr>\n",
       "<tr>\n",
       "  <th>under_construction</th> <td>-2.396e+12</td> <td> 1.99e+11</td> <td>  -12.066</td> <td> 0.000</td> <td>-2.79e+12</td> <td>-2.01e+12</td>\n",
       "</tr>\n",
       "<tr>\n",
       "  <th>rera</th>               <td> 1.497e+12</td> <td>  3.1e+11</td> <td>    4.836</td> <td> 0.000</td> <td> 8.91e+11</td> <td>  2.1e+12</td>\n",
       "</tr>\n",
       "<tr>\n",
       "  <th>bhk_no</th>             <td>-5.502e+10</td> <td> 2.94e+11</td> <td>   -0.187</td> <td> 0.852</td> <td>-6.32e+11</td> <td> 5.22e+11</td>\n",
       "</tr>\n",
       "<tr>\n",
       "  <th>square_ft</th>          <td>   10.1121</td> <td>    0.360</td> <td>   28.085</td> <td> 0.000</td> <td>    9.406</td> <td>   10.818</td>\n",
       "</tr>\n",
       "<tr>\n",
       "  <th>ready_to_move</th>      <td>  2.31e+12</td> <td> 2.02e+11</td> <td>   11.436</td> <td> 0.000</td> <td> 1.91e+12</td> <td> 2.71e+12</td>\n",
       "</tr>\n",
       "<tr>\n",
       "  <th>resale</th>             <td> 1.316e+11</td> <td> 7.87e+10</td> <td>    1.673</td> <td> 0.094</td> <td>-2.26e+10</td> <td> 2.86e+11</td>\n",
       "</tr>\n",
       "<tr>\n",
       "  <th>longitude</th>          <td>   -0.0367</td> <td>    0.006</td> <td>   -5.970</td> <td> 0.000</td> <td>   -0.049</td> <td>   -0.025</td>\n",
       "</tr>\n",
       "<tr>\n",
       "  <th>latitude</th>           <td>   -0.0222</td> <td>    0.006</td> <td>   -3.664</td> <td> 0.000</td> <td>   -0.034</td> <td>   -0.010</td>\n",
       "</tr>\n",
       "</table>\n",
       "<table class=\"simpletable\">\n",
       "<tr>\n",
       "  <th>Omnibus:</th>       <td>33098.774</td> <th>  Durbin-Watson:     </th>   <td>   2.003</td>  \n",
       "</tr>\n",
       "<tr>\n",
       "  <th>Prob(Omnibus):</th>  <td> 0.000</td>   <th>  Jarque-Bera (JB):  </th> <td>32758261.688</td>\n",
       "</tr>\n",
       "<tr>\n",
       "  <th>Skew:</th>           <td>11.098</td>   <th>  Prob(JB):          </th>   <td>    0.00</td>  \n",
       "</tr>\n",
       "<tr>\n",
       "  <th>Kurtosis:</th>       <td>200.041</td>  <th>  Cond. No.          </th>   <td>4.14e+17</td>  \n",
       "</tr>\n",
       "</table><br/><br/>Notes:<br/>[1] Standard Errors assume that the covariance matrix of the errors is correctly specified.<br/>[2] The smallest eigenvalue is 1.01e-30. This might indicate that there are<br/>strong multicollinearity problems or that the design matrix is singular."
      ],
      "text/plain": [
       "<class 'statsmodels.iolib.summary.Summary'>\n",
       "\"\"\"\n",
       "                            OLS Regression Results                            \n",
       "==============================================================================\n",
       "Dep. Variable:                 target   R-squared:                       0.109\n",
       "Model:                            OLS   Adj. R-squared:                  0.109\n",
       "Method:                 Least Squares   F-statistic:                     245.4\n",
       "Date:                Fri, 05 May 2023   Prob (F-statistic):               0.00\n",
       "Time:                        12:02:36   Log-Likelihood:                -25015.\n",
       "No. Observations:               19996   AIC:                         5.005e+04\n",
       "Df Residuals:                   19985   BIC:                         5.014e+04\n",
       "Df Model:                          10                                         \n",
       "Covariance Type:            nonrobust                                         \n",
       "======================================================================================\n",
       "                         coef    std err          t      P>|t|      [0.025      0.975]\n",
       "--------------------------------------------------------------------------------------\n",
       "under_construction   1.15e+13    1.2e+12      9.544      0.000    9.14e+12    1.39e+13\n",
       "rera               -3.228e+12   6.67e+11     -4.836      0.000   -4.54e+12   -1.92e+12\n",
       "bhk_no              6.249e+10   3.34e+11      0.187      0.852   -5.93e+11    7.18e+11\n",
       "ready_to_move      -8.338e+11   1.38e+12     -0.605      0.545   -3.54e+12    1.87e+12\n",
       "resale             -5.227e+11   3.13e+11     -1.673      0.094   -1.14e+12    8.99e+10\n",
       "posted_by_Dealer       0.6919      0.049     14.073      0.000       0.596       0.788\n",
       "posted_by_Owner        0.5826      0.051     11.491      0.000       0.483       0.682\n",
       "bhk_or_rk_RK          -0.1313      0.206     -0.638      0.523      -0.535       0.272\n",
       "under_construction -2.396e+12   1.99e+11    -12.066      0.000   -2.79e+12   -2.01e+12\n",
       "rera                1.497e+12    3.1e+11      4.836      0.000    8.91e+11     2.1e+12\n",
       "bhk_no             -5.502e+10   2.94e+11     -0.187      0.852   -6.32e+11    5.22e+11\n",
       "square_ft             10.1121      0.360     28.085      0.000       9.406      10.818\n",
       "ready_to_move        2.31e+12   2.02e+11     11.436      0.000    1.91e+12    2.71e+12\n",
       "resale              1.316e+11   7.87e+10      1.673      0.094   -2.26e+10    2.86e+11\n",
       "longitude             -0.0367      0.006     -5.970      0.000      -0.049      -0.025\n",
       "latitude              -0.0222      0.006     -3.664      0.000      -0.034      -0.010\n",
       "==============================================================================\n",
       "Omnibus:                    33098.774   Durbin-Watson:                   2.003\n",
       "Prob(Omnibus):                  0.000   Jarque-Bera (JB):         32758261.688\n",
       "Skew:                          11.098   Prob(JB):                         0.00\n",
       "Kurtosis:                     200.041   Cond. No.                     4.14e+17\n",
       "==============================================================================\n",
       "\n",
       "Notes:\n",
       "[1] Standard Errors assume that the covariance matrix of the errors is correctly specified.\n",
       "[2] The smallest eigenvalue is 1.01e-30. This might indicate that there are\n",
       "strong multicollinearity problems or that the design matrix is singular.\n",
       "\"\"\""
      ]
     },
     "execution_count": 110,
     "metadata": {},
     "output_type": "execute_result"
    }
   ],
   "source": [
    "model1.summary()"
   ]
  },
  {
   "cell_type": "code",
   "execution_count": 111,
   "id": "4d2fe7c4",
   "metadata": {},
   "outputs": [],
   "source": [
    "y_pred_1 = model1.predict(x_train) \n",
    "y_pred_2 = model1.predict(x_test)"
   ]
  },
  {
   "cell_type": "markdown",
   "id": "379f3f3f",
   "metadata": {},
   "source": [
    "### 1.Root_mean_square_Error:"
   ]
  },
  {
   "cell_type": "code",
   "execution_count": 112,
   "id": "2bb63a44",
   "metadata": {},
   "outputs": [],
   "source": [
    "from sklearn.metrics import mean_squared_error as mse\n",
    "from math import sqrt"
   ]
  },
  {
   "cell_type": "code",
   "execution_count": 113,
   "id": "99d7949f",
   "metadata": {},
   "outputs": [],
   "source": [
    "rmse_1 = np.sqrt(mse(y_train,y_pred_1))\n",
    "rmse_2 = np.sqrt(mse(y_test,y_pred_2))"
   ]
  },
  {
   "cell_type": "code",
   "execution_count": 114,
   "id": "14db99eb",
   "metadata": {},
   "outputs": [
    {
     "name": "stdout",
     "output_type": "stream",
     "text": [
      "Train:0.8453930404269641\n",
      "Test:17.730239653213772\n"
     ]
    }
   ],
   "source": [
    "print(f\"Train:{rmse_1}\\nTest:{rmse_2}\")"
   ]
  },
  {
   "cell_type": "markdown",
   "id": "03adc5e5",
   "metadata": {},
   "source": [
    "### 2.Mean_Absolute_Percentage_Error"
   ]
  },
  {
   "cell_type": "code",
   "execution_count": 115,
   "id": "0a9426d0",
   "metadata": {},
   "outputs": [],
   "source": [
    "from sklearn.metrics import mean_absolute_percentage_error as mape"
   ]
  },
  {
   "cell_type": "code",
   "execution_count": 116,
   "id": "678f4d40",
   "metadata": {},
   "outputs": [],
   "source": [
    "mape_1 = mape(y_train,y_pred_1)\n",
    "mape_2 = mape(y_test,y_pred_2)"
   ]
  },
  {
   "cell_type": "code",
   "execution_count": 117,
   "id": "8026ce43",
   "metadata": {},
   "outputs": [
    {
     "name": "stdout",
     "output_type": "stream",
     "text": [
      "Train:4.321214513168087\n",
      "Test:3.84655014195225\n"
     ]
    }
   ],
   "source": [
    "print(f\"Train:{mape_1}\\nTest:{mape_2}\")"
   ]
  },
  {
   "cell_type": "markdown",
   "id": "d084d4cc",
   "metadata": {},
   "source": [
    "# Hyperparameter Tuning:"
   ]
  },
  {
   "cell_type": "markdown",
   "id": "c4caad2f",
   "metadata": {},
   "source": [
    "## ----------Ridge------------"
   ]
  },
  {
   "cell_type": "code",
   "execution_count": 125,
   "id": "482e919f",
   "metadata": {},
   "outputs": [],
   "source": [
    "from sklearn.linear_model import Ridge, Lasso"
   ]
  },
  {
   "cell_type": "code",
   "execution_count": 126,
   "id": "71bc3e21",
   "metadata": {},
   "outputs": [
    {
     "data": {
      "text/plain": [
       "Ridge(alpha=0.8)"
      ]
     },
     "execution_count": 126,
     "metadata": {},
     "output_type": "execute_result"
    }
   ],
   "source": [
    "ridge = Ridge(alpha=0.8)\n",
    "ridge.fit(x_train, y_train)"
   ]
  },
  {
   "cell_type": "code",
   "execution_count": 127,
   "id": "fdfa8e8b",
   "metadata": {},
   "outputs": [],
   "source": [
    "y_pred_ridge1 = ridge.predict(x_train)\n",
    "y_pred_ridge2= ridge.predict(x_test)"
   ]
  },
  {
   "cell_type": "markdown",
   "id": "650a84d0",
   "metadata": {},
   "source": [
    "### *RMSE"
   ]
  },
  {
   "cell_type": "code",
   "execution_count": 128,
   "id": "67da61fd",
   "metadata": {},
   "outputs": [],
   "source": [
    "rmse_ridge1 = np.sqrt(mse(y_train,y_pred_ridge1))\n",
    "rmse_ridge2 = np.sqrt(mse(y_test,y_pred_ridge2))"
   ]
  },
  {
   "cell_type": "code",
   "execution_count": 129,
   "id": "4ad74402",
   "metadata": {},
   "outputs": [
    {
     "name": "stdout",
     "output_type": "stream",
     "text": [
      "Train:0.841518240067232\n",
      "Test:15.643697762877865\n"
     ]
    }
   ],
   "source": [
    "print(f\"Train:{rmse_ridge1}\\nTest:{rmse_ridge2}\")"
   ]
  },
  {
   "cell_type": "markdown",
   "id": "0a010c71",
   "metadata": {},
   "source": [
    "### *MAPE"
   ]
  },
  {
   "cell_type": "code",
   "execution_count": 130,
   "id": "97e932c0",
   "metadata": {},
   "outputs": [],
   "source": [
    "mape_ridge1 = mape(y_train,y_pred_ridge1)\n",
    "mape_ridge2 = mape(y_test,y_pred_ridge2)"
   ]
  },
  {
   "cell_type": "code",
   "execution_count": 131,
   "id": "902db75a",
   "metadata": {},
   "outputs": [
    {
     "name": "stdout",
     "output_type": "stream",
     "text": [
      "Train:4.03887671718543\n",
      "Test:3.894892107661077\n"
     ]
    }
   ],
   "source": [
    "print(f'Train:{mape_ridge1}\\nTest:{mape_ridge2}')"
   ]
  },
  {
   "cell_type": "markdown",
   "id": "65f273d7",
   "metadata": {},
   "source": [
    "# ------------lasso----------"
   ]
  },
  {
   "cell_type": "code",
   "execution_count": 132,
   "id": "75bb5a72",
   "metadata": {},
   "outputs": [
    {
     "data": {
      "text/plain": [
       "Lasso(alpha=1)"
      ]
     },
     "execution_count": 132,
     "metadata": {},
     "output_type": "execute_result"
    }
   ],
   "source": [
    "lasso = Lasso(alpha=1)\n",
    "lasso.fit(x_train, y_train)"
   ]
  },
  {
   "cell_type": "code",
   "execution_count": 133,
   "id": "f3a2a117",
   "metadata": {},
   "outputs": [],
   "source": [
    "y_pred_lasso1 = lasso.predict(x_train)\n",
    "y_pred_lasso2 = lasso.predict(x_test)"
   ]
  },
  {
   "cell_type": "markdown",
   "id": "5a70611b",
   "metadata": {},
   "source": [
    "### *RMSE"
   ]
  },
  {
   "cell_type": "code",
   "execution_count": 134,
   "id": "974592ea",
   "metadata": {},
   "outputs": [],
   "source": [
    "rmse_lasso1 = np.sqrt(mse(y_train,y_pred_lasso1))\n",
    "rmse_lasso2 = np.sqrt(mse(y_test,y_pred_lasso2))"
   ]
  },
  {
   "cell_type": "code",
   "execution_count": 135,
   "id": "d141b8ca",
   "metadata": {},
   "outputs": [
    {
     "name": "stdout",
     "output_type": "stream",
     "text": [
      "Train=0.8958021683839653\n",
      "Test=1.2087223911246705\n"
     ]
    }
   ],
   "source": [
    "print(f'Train={rmse_lasso1}\\nTest={rmse_lasso2}')"
   ]
  },
  {
   "cell_type": "markdown",
   "id": "48fa00a1",
   "metadata": {},
   "source": [
    "### *MAPE"
   ]
  },
  {
   "cell_type": "code",
   "execution_count": 136,
   "id": "0468e97f",
   "metadata": {},
   "outputs": [],
   "source": [
    "mape_lasso1 = mape(y_train,y_pred_lasso1)\n",
    "mape_lasso2 = mape(y_test,y_pred_lasso2)"
   ]
  },
  {
   "cell_type": "code",
   "execution_count": 137,
   "id": "31ae374b",
   "metadata": {},
   "outputs": [
    {
     "name": "stdout",
     "output_type": "stream",
     "text": [
      "Train=1.0502298503958187\n",
      "Test=1.0395612388054332\n"
     ]
    }
   ],
   "source": [
    "print(f'Train={mape_lasso1}\\nTest={mape_lasso2}')"
   ]
  },
  {
   "cell_type": "code",
   "execution_count": 141,
   "id": "3e812ccf",
   "metadata": {},
   "outputs": [],
   "source": [
    "from sklearn.metrics import r2_score as r2"
   ]
  },
  {
   "cell_type": "code",
   "execution_count": 142,
   "id": "dbf30cad",
   "metadata": {},
   "outputs": [],
   "source": [
    "y_r2_train = r2(y_train,y_pred_lasso1)"
   ]
  },
  {
   "cell_type": "code",
   "execution_count": 143,
   "id": "336a38e4",
   "metadata": {},
   "outputs": [
    {
     "data": {
      "text/plain": [
       "0.0"
      ]
     },
     "execution_count": 143,
     "metadata": {},
     "output_type": "execute_result"
    }
   ],
   "source": [
    "y_r2_train"
   ]
  },
  {
   "cell_type": "markdown",
   "id": "d31b39bc",
   "metadata": {},
   "source": [
    "# ---------------------------------------Another_Model_Building------------------------------------"
   ]
  },
  {
   "cell_type": "code",
   "execution_count": 148,
   "id": "8d5eefda",
   "metadata": {},
   "outputs": [],
   "source": [
    "from sklearn.decomposition import PCA"
   ]
  },
  {
   "cell_type": "code",
   "execution_count": 149,
   "id": "10f362ff",
   "metadata": {},
   "outputs": [],
   "source": [
    "pca = PCA(0.95)"
   ]
  },
  {
   "cell_type": "code",
   "execution_count": 150,
   "id": "8d64fde7",
   "metadata": {},
   "outputs": [],
   "source": [
    "pca_x_train = pca.fit_transform(x_train)"
   ]
  },
  {
   "cell_type": "code",
   "execution_count": 151,
   "id": "30b9ced7",
   "metadata": {},
   "outputs": [],
   "source": [
    "pca_x_test = pca.transform(x_test)"
   ]
  },
  {
   "cell_type": "markdown",
   "id": "234e3c43",
   "metadata": {},
   "source": [
    "## Linear_Model_Building------>2"
   ]
  },
  {
   "cell_type": "code",
   "execution_count": 152,
   "id": "9dc98e2e",
   "metadata": {},
   "outputs": [],
   "source": [
    "import statsmodels.api as sm"
   ]
  },
  {
   "cell_type": "code",
   "execution_count": 177,
   "id": "50bb12a0",
   "metadata": {},
   "outputs": [],
   "source": [
    "pca_x_train_1 = sm.add_constant(pca_x_train)\n",
    "model = sm.OLS(y_train,pca_x_train_1).fit()"
   ]
  },
  {
   "cell_type": "code",
   "execution_count": 178,
   "id": "e3b47c93",
   "metadata": {},
   "outputs": [
    {
     "data": {
      "text/html": [
       "<table class=\"simpletable\">\n",
       "<caption>OLS Regression Results</caption>\n",
       "<tr>\n",
       "  <th>Dep. Variable:</th>         <td>target</td>      <th>  R-squared:         </th> <td>   0.070</td> \n",
       "</tr>\n",
       "<tr>\n",
       "  <th>Model:</th>                   <td>OLS</td>       <th>  Adj. R-squared:    </th> <td>   0.070</td> \n",
       "</tr>\n",
       "<tr>\n",
       "  <th>Method:</th>             <td>Least Squares</td>  <th>  F-statistic:       </th> <td>   250.1</td> \n",
       "</tr>\n",
       "<tr>\n",
       "  <th>Date:</th>             <td>Fri, 05 May 2023</td> <th>  Prob (F-statistic):</th> <td>1.71e-309</td>\n",
       "</tr>\n",
       "<tr>\n",
       "  <th>Time:</th>                 <td>12:24:04</td>     <th>  Log-Likelihood:    </th> <td> -25449.</td> \n",
       "</tr>\n",
       "<tr>\n",
       "  <th>No. Observations:</th>      <td> 19996</td>      <th>  AIC:               </th> <td>5.091e+04</td>\n",
       "</tr>\n",
       "<tr>\n",
       "  <th>Df Residuals:</th>          <td> 19989</td>      <th>  BIC:               </th> <td>5.097e+04</td>\n",
       "</tr>\n",
       "<tr>\n",
       "  <th>Df Model:</th>              <td>     6</td>      <th>                     </th>     <td> </td>    \n",
       "</tr>\n",
       "<tr>\n",
       "  <th>Covariance Type:</th>      <td>nonrobust</td>    <th>                     </th>     <td> </td>    \n",
       "</tr>\n",
       "</table>\n",
       "<table class=\"simpletable\">\n",
       "<tr>\n",
       "    <td></td>       <th>coef</th>     <th>std err</th>      <th>t</th>      <th>P>|t|</th>  <th>[0.025</th>    <th>0.975]</th>  \n",
       "</tr>\n",
       "<tr>\n",
       "  <th>const</th> <td>   -0.0055</td> <td>    0.006</td> <td>   -0.906</td> <td> 0.365</td> <td>   -0.018</td> <td>    0.006</td>\n",
       "</tr>\n",
       "<tr>\n",
       "  <th>x1</th>    <td>    0.0598</td> <td>    0.004</td> <td>   16.505</td> <td> 0.000</td> <td>    0.053</td> <td>    0.067</td>\n",
       "</tr>\n",
       "<tr>\n",
       "  <th>x2</th>    <td>    0.0838</td> <td>    0.005</td> <td>   18.607</td> <td> 0.000</td> <td>    0.075</td> <td>    0.093</td>\n",
       "</tr>\n",
       "<tr>\n",
       "  <th>x3</th>    <td>   -0.0061</td> <td>    0.006</td> <td>   -1.093</td> <td> 0.275</td> <td>   -0.017</td> <td>    0.005</td>\n",
       "</tr>\n",
       "<tr>\n",
       "  <th>x4</th>    <td>   -0.1301</td> <td>    0.006</td> <td>  -20.686</td> <td> 0.000</td> <td>   -0.142</td> <td>   -0.118</td>\n",
       "</tr>\n",
       "<tr>\n",
       "  <th>x5</th>    <td>    0.1220</td> <td>    0.007</td> <td>   18.523</td> <td> 0.000</td> <td>    0.109</td> <td>    0.135</td>\n",
       "</tr>\n",
       "<tr>\n",
       "  <th>x6</th>    <td>   -0.0724</td> <td>    0.007</td> <td>  -10.463</td> <td> 0.000</td> <td>   -0.086</td> <td>   -0.059</td>\n",
       "</tr>\n",
       "</table>\n",
       "<table class=\"simpletable\">\n",
       "<tr>\n",
       "  <th>Omnibus:</th>       <td>35190.909</td> <th>  Durbin-Watson:     </th>   <td>   2.009</td>  \n",
       "</tr>\n",
       "<tr>\n",
       "  <th>Prob(Omnibus):</th>  <td> 0.000</td>   <th>  Jarque-Bera (JB):  </th> <td>29156563.212</td>\n",
       "</tr>\n",
       "<tr>\n",
       "  <th>Skew:</th>           <td>12.831</td>   <th>  Prob(JB):          </th>   <td>    0.00</td>  \n",
       "</tr>\n",
       "<tr>\n",
       "  <th>Kurtosis:</th>       <td>188.301</td>  <th>  Cond. No.          </th>   <td>    1.91</td>  \n",
       "</tr>\n",
       "</table><br/><br/>Notes:<br/>[1] Standard Errors assume that the covariance matrix of the errors is correctly specified."
      ],
      "text/plain": [
       "<class 'statsmodels.iolib.summary.Summary'>\n",
       "\"\"\"\n",
       "                            OLS Regression Results                            \n",
       "==============================================================================\n",
       "Dep. Variable:                 target   R-squared:                       0.070\n",
       "Model:                            OLS   Adj. R-squared:                  0.070\n",
       "Method:                 Least Squares   F-statistic:                     250.1\n",
       "Date:                Fri, 05 May 2023   Prob (F-statistic):          1.71e-309\n",
       "Time:                        12:24:04   Log-Likelihood:                -25449.\n",
       "No. Observations:               19996   AIC:                         5.091e+04\n",
       "Df Residuals:                   19989   BIC:                         5.097e+04\n",
       "Df Model:                           6                                         \n",
       "Covariance Type:            nonrobust                                         \n",
       "==============================================================================\n",
       "                 coef    std err          t      P>|t|      [0.025      0.975]\n",
       "------------------------------------------------------------------------------\n",
       "const         -0.0055      0.006     -0.906      0.365      -0.018       0.006\n",
       "x1             0.0598      0.004     16.505      0.000       0.053       0.067\n",
       "x2             0.0838      0.005     18.607      0.000       0.075       0.093\n",
       "x3            -0.0061      0.006     -1.093      0.275      -0.017       0.005\n",
       "x4            -0.1301      0.006    -20.686      0.000      -0.142      -0.118\n",
       "x5             0.1220      0.007     18.523      0.000       0.109       0.135\n",
       "x6            -0.0724      0.007    -10.463      0.000      -0.086      -0.059\n",
       "==============================================================================\n",
       "Omnibus:                    35190.909   Durbin-Watson:                   2.009\n",
       "Prob(Omnibus):                  0.000   Jarque-Bera (JB):         29156563.212\n",
       "Skew:                          12.831   Prob(JB):                         0.00\n",
       "Kurtosis:                     188.301   Cond. No.                         1.91\n",
       "==============================================================================\n",
       "\n",
       "Notes:\n",
       "[1] Standard Errors assume that the covariance matrix of the errors is correctly specified.\n",
       "\"\"\""
      ]
     },
     "execution_count": 178,
     "metadata": {},
     "output_type": "execute_result"
    }
   ],
   "source": [
    "model.summary()"
   ]
  },
  {
   "cell_type": "markdown",
   "id": "26a96618",
   "metadata": {},
   "source": [
    "### *Train_predic--&--Test_predic"
   ]
  },
  {
   "cell_type": "code",
   "execution_count": 155,
   "id": "84002a2b",
   "metadata": {},
   "outputs": [],
   "source": [
    "y_pred_train = model.predict(pca_x_train)\n",
    "y_pred_test = model.predict(pca_x_test)"
   ]
  },
  {
   "cell_type": "markdown",
   "id": "7c3de2f3",
   "metadata": {},
   "source": [
    "# Mean_Square_Error:"
   ]
  },
  {
   "cell_type": "code",
   "execution_count": 156,
   "id": "05fdab0d",
   "metadata": {},
   "outputs": [],
   "source": [
    "from sklearn.metrics import mean_squared_error as mse\n",
    "from math import sqrt"
   ]
  },
  {
   "cell_type": "markdown",
   "id": "9bc897f2",
   "metadata": {},
   "source": [
    "### *RMSE_train"
   ]
  },
  {
   "cell_type": "code",
   "execution_count": 157,
   "id": "57556020",
   "metadata": {},
   "outputs": [],
   "source": [
    "rmse = np.sqrt(mse(y_train,y_pred_train))"
   ]
  },
  {
   "cell_type": "code",
   "execution_count": 158,
   "id": "82f8a847",
   "metadata": {},
   "outputs": [
    {
     "data": {
      "text/plain": [
       "0.8639819521544949"
      ]
     },
     "execution_count": 158,
     "metadata": {},
     "output_type": "execute_result"
    }
   ],
   "source": [
    "rmse"
   ]
  },
  {
   "cell_type": "markdown",
   "id": "c967bfa8",
   "metadata": {},
   "source": [
    "### *RMSE_test"
   ]
  },
  {
   "cell_type": "code",
   "execution_count": 159,
   "id": "ccff8702",
   "metadata": {},
   "outputs": [],
   "source": [
    "RMSE= np.sqrt(mse(y_test,y_pred_test))"
   ]
  },
  {
   "cell_type": "code",
   "execution_count": 160,
   "id": "4a8ff887",
   "metadata": {},
   "outputs": [
    {
     "data": {
      "text/plain": [
       "1.1842981876761232"
      ]
     },
     "execution_count": 160,
     "metadata": {},
     "output_type": "execute_result"
    }
   ],
   "source": [
    "RMSE"
   ]
  },
  {
   "cell_type": "code",
   "execution_count": 182,
   "id": "b850dfbb",
   "metadata": {},
   "outputs": [],
   "source": [
    "from sklearn.metrics import *"
   ]
  },
  {
   "cell_type": "code",
   "execution_count": 184,
   "id": "a0c7446d",
   "metadata": {},
   "outputs": [],
   "source": [
    "r2 = r2_score(y_test,y_pred_test)"
   ]
  },
  {
   "cell_type": "code",
   "execution_count": 185,
   "id": "899821c6",
   "metadata": {},
   "outputs": [
    {
     "data": {
      "text/plain": [
       "0.03978132657983291"
      ]
     },
     "execution_count": 185,
     "metadata": {},
     "output_type": "execute_result"
    }
   ],
   "source": [
    "r2"
   ]
  },
  {
   "cell_type": "markdown",
   "id": "dd0f2b04",
   "metadata": {},
   "source": [
    "##### Dataframe of RMSE for good understanding"
   ]
  },
  {
   "cell_type": "code",
   "execution_count": 161,
   "id": "a1452b79",
   "metadata": {},
   "outputs": [],
   "source": [
    "value1=[[rmse,RMSE]]"
   ]
  },
  {
   "cell_type": "code",
   "execution_count": 162,
   "id": "ffa28673",
   "metadata": {},
   "outputs": [],
   "source": [
    "data1 = pd.DataFrame(value1,columns=['Train_RMSE','Test_RMSE'])"
   ]
  },
  {
   "cell_type": "code",
   "execution_count": 163,
   "id": "083369dc",
   "metadata": {},
   "outputs": [
    {
     "data": {
      "text/html": [
       "<div>\n",
       "<style scoped>\n",
       "    .dataframe tbody tr th:only-of-type {\n",
       "        vertical-align: middle;\n",
       "    }\n",
       "\n",
       "    .dataframe tbody tr th {\n",
       "        vertical-align: top;\n",
       "    }\n",
       "\n",
       "    .dataframe thead th {\n",
       "        text-align: right;\n",
       "    }\n",
       "</style>\n",
       "<table border=\"1\" class=\"dataframe\">\n",
       "  <thead>\n",
       "    <tr style=\"text-align: right;\">\n",
       "      <th></th>\n",
       "      <th>Train_RMSE</th>\n",
       "      <th>Test_RMSE</th>\n",
       "    </tr>\n",
       "  </thead>\n",
       "  <tbody>\n",
       "    <tr>\n",
       "      <th>0</th>\n",
       "      <td>0.863982</td>\n",
       "      <td>1.184298</td>\n",
       "    </tr>\n",
       "  </tbody>\n",
       "</table>\n",
       "</div>"
      ],
      "text/plain": [
       "   Train_RMSE  Test_RMSE\n",
       "0    0.863982   1.184298"
      ]
     },
     "execution_count": 163,
     "metadata": {},
     "output_type": "execute_result"
    }
   ],
   "source": [
    "data1"
   ]
  },
  {
   "cell_type": "markdown",
   "id": "48dce892",
   "metadata": {},
   "source": [
    "# MAPE_Testing"
   ]
  },
  {
   "cell_type": "code",
   "execution_count": 164,
   "id": "c13115ed",
   "metadata": {},
   "outputs": [],
   "source": [
    "from sklearn.metrics import mean_absolute_percentage_error as mape"
   ]
  },
  {
   "cell_type": "markdown",
   "id": "18fdc243",
   "metadata": {},
   "source": [
    "#### *MAPE_TRAIN"
   ]
  },
  {
   "cell_type": "code",
   "execution_count": 165,
   "id": "0ee845ef",
   "metadata": {},
   "outputs": [],
   "source": [
    "MAPE = mape(y_train,y_pred_train) "
   ]
  },
  {
   "cell_type": "code",
   "execution_count": 166,
   "id": "177e588e",
   "metadata": {},
   "outputs": [
    {
     "data": {
      "text/plain": [
       "3.874889801532298"
      ]
     },
     "execution_count": 166,
     "metadata": {},
     "output_type": "execute_result"
    }
   ],
   "source": [
    "MAPE"
   ]
  },
  {
   "cell_type": "markdown",
   "id": "67e19b43",
   "metadata": {},
   "source": [
    "#### *MAPE_TEST"
   ]
  },
  {
   "cell_type": "code",
   "execution_count": 167,
   "id": "2c5992b7",
   "metadata": {},
   "outputs": [],
   "source": [
    "MAP = mape(y_test,y_pred_test)"
   ]
  },
  {
   "cell_type": "code",
   "execution_count": 174,
   "id": "21a063cd",
   "metadata": {},
   "outputs": [
    {
     "data": {
      "text/plain": [
       "0.03978132657983291"
      ]
     },
     "execution_count": 174,
     "metadata": {},
     "output_type": "execute_result"
    }
   ],
   "source": [
    "r2_score(y_test,y_pred_test)"
   ]
  },
  {
   "cell_type": "code",
   "execution_count": 169,
   "id": "26243caf",
   "metadata": {},
   "outputs": [
    {
     "data": {
      "text/plain": [
       "3.7190795713296985"
      ]
     },
     "execution_count": 169,
     "metadata": {},
     "output_type": "execute_result"
    }
   ],
   "source": [
    "MAP"
   ]
  },
  {
   "cell_type": "markdown",
   "id": "6d9262a3",
   "metadata": {},
   "source": [
    "#### Dataframe of MAPE for good understanding"
   ]
  },
  {
   "cell_type": "code",
   "execution_count": 170,
   "id": "01c4066d",
   "metadata": {},
   "outputs": [],
   "source": [
    "value2 = [[MAPE,MAP]]"
   ]
  },
  {
   "cell_type": "code",
   "execution_count": 171,
   "id": "566485d3",
   "metadata": {},
   "outputs": [
    {
     "data": {
      "text/plain": [
       "[[3.874889801532298, 3.7190795713296985]]"
      ]
     },
     "execution_count": 171,
     "metadata": {},
     "output_type": "execute_result"
    }
   ],
   "source": [
    "value2"
   ]
  },
  {
   "cell_type": "code",
   "execution_count": 172,
   "id": "abfc3ad8",
   "metadata": {},
   "outputs": [],
   "source": [
    "data2 = pd.DataFrame(value2,columns=['Train_MAPE','Test_MAPE'])"
   ]
  },
  {
   "cell_type": "code",
   "execution_count": 173,
   "id": "973954e0",
   "metadata": {},
   "outputs": [
    {
     "data": {
      "text/html": [
       "<div>\n",
       "<style scoped>\n",
       "    .dataframe tbody tr th:only-of-type {\n",
       "        vertical-align: middle;\n",
       "    }\n",
       "\n",
       "    .dataframe tbody tr th {\n",
       "        vertical-align: top;\n",
       "    }\n",
       "\n",
       "    .dataframe thead th {\n",
       "        text-align: right;\n",
       "    }\n",
       "</style>\n",
       "<table border=\"1\" class=\"dataframe\">\n",
       "  <thead>\n",
       "    <tr style=\"text-align: right;\">\n",
       "      <th></th>\n",
       "      <th>Train_MAPE</th>\n",
       "      <th>Test_MAPE</th>\n",
       "    </tr>\n",
       "  </thead>\n",
       "  <tbody>\n",
       "    <tr>\n",
       "      <th>0</th>\n",
       "      <td>3.87489</td>\n",
       "      <td>3.71908</td>\n",
       "    </tr>\n",
       "  </tbody>\n",
       "</table>\n",
       "</div>"
      ],
      "text/plain": [
       "   Train_MAPE  Test_MAPE\n",
       "0     3.87489    3.71908"
      ]
     },
     "execution_count": 173,
     "metadata": {},
     "output_type": "execute_result"
    }
   ],
   "source": [
    "data2"
   ]
  },
  {
   "cell_type": "code",
   "execution_count": null,
   "id": "477ba38d",
   "metadata": {},
   "outputs": [],
   "source": []
  },
  {
   "cell_type": "code",
   "execution_count": null,
   "id": "81711765",
   "metadata": {},
   "outputs": [],
   "source": []
  },
  {
   "cell_type": "code",
   "execution_count": null,
   "id": "fcdf6dbf",
   "metadata": {},
   "outputs": [],
   "source": []
  },
  {
   "cell_type": "code",
   "execution_count": null,
   "id": "db65cdc6",
   "metadata": {},
   "outputs": [],
   "source": []
  },
  {
   "cell_type": "code",
   "execution_count": null,
   "id": "09f00ccb",
   "metadata": {},
   "outputs": [],
   "source": []
  },
  {
   "cell_type": "code",
   "execution_count": null,
   "id": "3fc6ddbc",
   "metadata": {},
   "outputs": [],
   "source": []
  },
  {
   "cell_type": "code",
   "execution_count": null,
   "id": "c7b6f71f",
   "metadata": {},
   "outputs": [],
   "source": []
  },
  {
   "cell_type": "code",
   "execution_count": null,
   "id": "6216d2e0",
   "metadata": {},
   "outputs": [],
   "source": []
  },
  {
   "cell_type": "code",
   "execution_count": null,
   "id": "3431f1fb",
   "metadata": {},
   "outputs": [],
   "source": []
  },
  {
   "cell_type": "code",
   "execution_count": null,
   "id": "5a8d73a0",
   "metadata": {},
   "outputs": [],
   "source": []
  },
  {
   "cell_type": "code",
   "execution_count": null,
   "id": "d462130a",
   "metadata": {},
   "outputs": [],
   "source": []
  },
  {
   "cell_type": "code",
   "execution_count": null,
   "id": "d81ded13",
   "metadata": {},
   "outputs": [],
   "source": []
  },
  {
   "cell_type": "code",
   "execution_count": null,
   "id": "43d8f549",
   "metadata": {},
   "outputs": [],
   "source": []
  },
  {
   "cell_type": "code",
   "execution_count": null,
   "id": "47cd0431",
   "metadata": {},
   "outputs": [],
   "source": []
  },
  {
   "cell_type": "code",
   "execution_count": null,
   "id": "eacd831d",
   "metadata": {},
   "outputs": [],
   "source": []
  },
  {
   "cell_type": "code",
   "execution_count": null,
   "id": "b03651f4",
   "metadata": {},
   "outputs": [],
   "source": []
  },
  {
   "cell_type": "code",
   "execution_count": null,
   "id": "b383a076",
   "metadata": {},
   "outputs": [],
   "source": []
  },
  {
   "cell_type": "code",
   "execution_count": null,
   "id": "74a92388",
   "metadata": {},
   "outputs": [],
   "source": []
  },
  {
   "cell_type": "code",
   "execution_count": null,
   "id": "14cbc55e",
   "metadata": {},
   "outputs": [],
   "source": []
  }
 ],
 "metadata": {
  "kernelspec": {
   "display_name": "Python 3 (ipykernel)",
   "language": "python",
   "name": "python3"
  },
  "language_info": {
   "codemirror_mode": {
    "name": "ipython",
    "version": 3
   },
   "file_extension": ".py",
   "mimetype": "text/x-python",
   "name": "python",
   "nbconvert_exporter": "python",
   "pygments_lexer": "ipython3",
   "version": "3.9.12"
  }
 },
 "nbformat": 4,
 "nbformat_minor": 5
}
